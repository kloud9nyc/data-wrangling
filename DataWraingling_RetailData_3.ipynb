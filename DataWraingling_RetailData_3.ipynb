{
  "nbformat": 4,
  "nbformat_minor": 0,
  "metadata": {
    "colab": {
      "name": "DataWraingling_RetailData_3.ipynb",
      "provenance": [],
      "authorship_tag": "ABX9TyMKlLBHWxInDIxUFk4iEOm3",
      "include_colab_link": true
    },
    "kernelspec": {
      "name": "python3",
      "display_name": "Python 3"
    }
  },
  "cells": [
    {
      "cell_type": "markdown",
      "metadata": {
        "id": "view-in-github",
        "colab_type": "text"
      },
      "source": [
        "<a href=\"https://colab.research.google.com/github/kloud9nyc/data-wrangling/blob/master/DataWraingling_RetailData_3.ipynb\" target=\"_parent\"><img src=\"https://colab.research.google.com/assets/colab-badge.svg\" alt=\"Open In Colab\"/></a>"
      ]
    },
    {
      "cell_type": "markdown",
      "metadata": {
        "id": "mNj7zqywtTgh",
        "colab_type": "text"
      },
      "source": [
        "**Mount Your Google Drive**"
      ]
    },
    {
      "cell_type": "code",
      "metadata": {
        "id": "Cs9hhYD-tGyY",
        "colab_type": "code",
        "colab": {
          "base_uri": "https://localhost:8080/",
          "height": 122
        },
        "outputId": "a7fa3b1e-1c2b-46d8-f3d4-de069016fc28"
      },
      "source": [
        "from google.colab import drive\n",
        "drive.mount('/content/drive')"
      ],
      "execution_count": 1,
      "outputs": [
        {
          "output_type": "stream",
          "text": [
            "Go to this URL in a browser: https://accounts.google.com/o/oauth2/auth?client_id=947318989803-6bn6qk8qdgf4n4g3pfee6491hc0brc4i.apps.googleusercontent.com&redirect_uri=urn%3aietf%3awg%3aoauth%3a2.0%3aoob&response_type=code&scope=email%20https%3a%2f%2fwww.googleapis.com%2fauth%2fdocs.test%20https%3a%2f%2fwww.googleapis.com%2fauth%2fdrive%20https%3a%2f%2fwww.googleapis.com%2fauth%2fdrive.photos.readonly%20https%3a%2f%2fwww.googleapis.com%2fauth%2fpeopleapi.readonly\n",
            "\n",
            "Enter your authorization code:\n",
            "··········\n",
            "Mounted at /content/drive\n"
          ],
          "name": "stdout"
        }
      ]
    },
    {
      "cell_type": "markdown",
      "metadata": {
        "id": "9JX3ntfptq38",
        "colab_type": "text"
      },
      "source": [
        "**Load Libaries**"
      ]
    },
    {
      "cell_type": "code",
      "metadata": {
        "id": "ANgvuYwytJrq",
        "colab_type": "code",
        "colab": {}
      },
      "source": [
        "import pandas as pd"
      ],
      "execution_count": 0,
      "outputs": []
    },
    {
      "cell_type": "markdown",
      "metadata": {
        "id": "pgTUl8Q3tywJ",
        "colab_type": "text"
      },
      "source": [
        "Load Data Wrangling foler from Google Drive"
      ]
    },
    {
      "cell_type": "code",
      "metadata": {
        "id": "jI-zSXmTtJu5",
        "colab_type": "code",
        "colab": {}
      },
      "source": [
        "data = pd.read_csv(\"/content/drive/My Drive/DataWrangling/onlineretail/OnlineRetail.csv\",encoding = \"ISO-8859-1\")"
      ],
      "execution_count": 0,
      "outputs": []
    },
    {
      "cell_type": "markdown",
      "metadata": {
        "id": "OS0f6m2WuU2R",
        "colab_type": "text"
      },
      "source": [
        "**Show Invoices Group by Country and Avg Quantity Purchased**"
      ]
    },
    {
      "cell_type": "code",
      "metadata": {
        "id": "qY0-hcIQtJ6B",
        "colab_type": "code",
        "colab": {
          "base_uri": "https://localhost:8080/",
          "height": 697
        },
        "outputId": "60a4ada5-253a-4eed-9cb8-e18fd3ab4656"
      },
      "source": [
        "data.groupby(['Country'])['Quantity'].mean()"
      ],
      "execution_count": 16,
      "outputs": [
        {
          "output_type": "execute_result",
          "data": {
            "text/plain": [
              "Country\n",
              "Australia               66.444003\n",
              "Austria                 12.037406\n",
              "Bahrain                 13.684211\n",
              "Belgium                 11.189947\n",
              "Brazil                  11.125000\n",
              "Canada                  18.298013\n",
              "Channel Islands         12.505277\n",
              "Cyprus                  10.155949\n",
              "Czech Republic          19.733333\n",
              "Denmark                 21.048843\n",
              "EIRE                    17.403245\n",
              "European Community       8.147541\n",
              "Finland                 15.346763\n",
              "France                  12.911067\n",
              "Germany                 12.369458\n",
              "Greece                  10.657534\n",
              "Hong Kong               16.559028\n",
              "Iceland                 13.505495\n",
              "Israel                  14.656566\n",
              "Italy                    9.961395\n",
              "Japan                   70.441341\n",
              "Lebanon                  8.577778\n",
              "Lithuania               18.628571\n",
              "Malta                    7.433071\n",
              "Netherlands             84.406580\n",
              "Norway                  17.722836\n",
              "Poland                  10.712610\n",
              "Portugal                10.651745\n",
              "RSA                      6.068966\n",
              "Saudi Arabia             7.500000\n",
              "Singapore               22.855895\n",
              "Spain                   10.589814\n",
              "Sweden                  77.136364\n",
              "Switzerland             15.147353\n",
              "USA                      3.553265\n",
              "United Arab Emirates    14.441176\n",
              "United Kingdom           8.605486\n",
              "Unspecified              7.399103\n",
              "Name: Quantity, dtype: float64"
            ]
          },
          "metadata": {
            "tags": []
          },
          "execution_count": 16
        }
      ]
    },
    {
      "cell_type": "markdown",
      "metadata": {
        "id": "O2CDuxbNui-3",
        "colab_type": "text"
      },
      "source": [
        "**Show Invoices Group by Country and Stock Code and Avg Quantity Purchased**\n",
        "\n",
        "Like that,\n",
        "\n",
        "***You can use All Aggregate functions like Min, Max, Sum***"
      ]
    },
    {
      "cell_type": "code",
      "metadata": {
        "id": "sZQ8aDTFuQZ1",
        "colab_type": "code",
        "colab": {
          "base_uri": "https://localhost:8080/",
          "height": 238
        },
        "outputId": "554d071f-e33b-4771-b62b-a51d3e45d8e7"
      },
      "source": [
        "data.groupby(['Country','StockCode'])['Quantity'].mean()"
      ],
      "execution_count": 28,
      "outputs": [
        {
          "output_type": "execute_result",
          "data": {
            "text/plain": [
              "Country      StockCode\n",
              "Australia    15036        600.000000\n",
              "             15056BL        3.000000\n",
              "             16161P       400.000000\n",
              "             16169E        25.000000\n",
              "             20665          6.000000\n",
              "                             ...    \n",
              "Unspecified  85180A         2.000000\n",
              "             85180B         1.000000\n",
              "             85212         12.000000\n",
              "             85213         12.000000\n",
              "             85227          3.333333\n",
              "Name: Quantity, Length: 19839, dtype: float64"
            ]
          },
          "metadata": {
            "tags": []
          },
          "execution_count": 28
        }
      ]
    },
    {
      "cell_type": "markdown",
      "metadata": {
        "id": "APxVBRuawrQv",
        "colab_type": "text"
      },
      "source": [
        "**Using Multiple Conditions**\n",
        "\n",
        "Show Invoice having the quantity between 1000 to 2500 belongs to UK"
      ]
    },
    {
      "cell_type": "code",
      "metadata": {
        "id": "fIowZ3dcu6eE",
        "colab_type": "code",
        "colab": {
          "base_uri": "https://localhost:8080/",
          "height": 419
        },
        "outputId": "c4c8da9f-eb58-4256-db70-01822754af1e"
      },
      "source": [
        "data[(data.Quantity >= 1000) & (data.Quantity <= 2500) & (data.Country == 'United Kingdom')]"
      ],
      "execution_count": 33,
      "outputs": [
        {
          "output_type": "execute_result",
          "data": {
            "text/html": [
              "<div>\n",
              "<style scoped>\n",
              "    .dataframe tbody tr th:only-of-type {\n",
              "        vertical-align: middle;\n",
              "    }\n",
              "\n",
              "    .dataframe tbody tr th {\n",
              "        vertical-align: top;\n",
              "    }\n",
              "\n",
              "    .dataframe thead th {\n",
              "        text-align: right;\n",
              "    }\n",
              "</style>\n",
              "<table border=\"1\" class=\"dataframe\">\n",
              "  <thead>\n",
              "    <tr style=\"text-align: right;\">\n",
              "      <th></th>\n",
              "      <th>InvoiceNo</th>\n",
              "      <th>StockCode</th>\n",
              "      <th>Description</th>\n",
              "      <th>Quantity</th>\n",
              "      <th>InvoiceDate</th>\n",
              "      <th>UnitPrice</th>\n",
              "      <th>CustomerID</th>\n",
              "      <th>Country</th>\n",
              "    </tr>\n",
              "  </thead>\n",
              "  <tbody>\n",
              "    <tr>\n",
              "      <th>4850</th>\n",
              "      <td>536809</td>\n",
              "      <td>84950</td>\n",
              "      <td>ASSORTED COLOUR T-LIGHT HOLDER</td>\n",
              "      <td>1824</td>\n",
              "      <td>12/2/2010 16:48</td>\n",
              "      <td>0.55</td>\n",
              "      <td>15299.0</td>\n",
              "      <td>United Kingdom</td>\n",
              "    </tr>\n",
              "    <tr>\n",
              "      <th>4946</th>\n",
              "      <td>536830</td>\n",
              "      <td>21915</td>\n",
              "      <td>RED  HARMONICA IN BOX</td>\n",
              "      <td>1400</td>\n",
              "      <td>12/2/2010 17:38</td>\n",
              "      <td>1.06</td>\n",
              "      <td>16754.0</td>\n",
              "      <td>United Kingdom</td>\n",
              "    </tr>\n",
              "    <tr>\n",
              "      <th>16435</th>\n",
              "      <td>537659</td>\n",
              "      <td>22189</td>\n",
              "      <td>CREAM HEART CARD HOLDER</td>\n",
              "      <td>1008</td>\n",
              "      <td>12/7/2010 16:43</td>\n",
              "      <td>2.31</td>\n",
              "      <td>18102.0</td>\n",
              "      <td>United Kingdom</td>\n",
              "    </tr>\n",
              "    <tr>\n",
              "      <th>16436</th>\n",
              "      <td>537659</td>\n",
              "      <td>22188</td>\n",
              "      <td>BLACK HEART CARD HOLDER</td>\n",
              "      <td>1008</td>\n",
              "      <td>12/7/2010 16:43</td>\n",
              "      <td>2.31</td>\n",
              "      <td>18102.0</td>\n",
              "      <td>United Kingdom</td>\n",
              "    </tr>\n",
              "    <tr>\n",
              "      <th>19149</th>\n",
              "      <td>537841</td>\n",
              "      <td>16014</td>\n",
              "      <td>SMALL CHINESE STYLE SCISSOR</td>\n",
              "      <td>1000</td>\n",
              "      <td>12/8/2010 15:10</td>\n",
              "      <td>0.32</td>\n",
              "      <td>13848.0</td>\n",
              "      <td>United Kingdom</td>\n",
              "    </tr>\n",
              "    <tr>\n",
              "      <th>...</th>\n",
              "      <td>...</td>\n",
              "      <td>...</td>\n",
              "      <td>...</td>\n",
              "      <td>...</td>\n",
              "      <td>...</td>\n",
              "      <td>...</td>\n",
              "      <td>...</td>\n",
              "      <td>...</td>\n",
              "    </tr>\n",
              "    <tr>\n",
              "      <th>520003</th>\n",
              "      <td>580243</td>\n",
              "      <td>21915</td>\n",
              "      <td>RED  HARMONICA IN BOX</td>\n",
              "      <td>1120</td>\n",
              "      <td>12/2/2011 12:19</td>\n",
              "      <td>1.06</td>\n",
              "      <td>16333.0</td>\n",
              "      <td>United Kingdom</td>\n",
              "    </tr>\n",
              "    <tr>\n",
              "      <th>521375</th>\n",
              "      <td>580363</td>\n",
              "      <td>23582</td>\n",
              "      <td>VINTAGE DOILY JUMBO BAG RED</td>\n",
              "      <td>1500</td>\n",
              "      <td>12/2/2011 16:32</td>\n",
              "      <td>1.79</td>\n",
              "      <td>13868.0</td>\n",
              "      <td>United Kingdom</td>\n",
              "    </tr>\n",
              "    <tr>\n",
              "      <th>533812</th>\n",
              "      <td>581115</td>\n",
              "      <td>22413</td>\n",
              "      <td>METAL SIGN TAKE IT OR LEAVE IT</td>\n",
              "      <td>1404</td>\n",
              "      <td>12/7/2011 12:20</td>\n",
              "      <td>2.75</td>\n",
              "      <td>15195.0</td>\n",
              "      <td>United Kingdom</td>\n",
              "    </tr>\n",
              "    <tr>\n",
              "      <th>540070</th>\n",
              "      <td>581458</td>\n",
              "      <td>22197</td>\n",
              "      <td>POPCORN HOLDER</td>\n",
              "      <td>1500</td>\n",
              "      <td>12/8/2011 18:45</td>\n",
              "      <td>0.72</td>\n",
              "      <td>17949.0</td>\n",
              "      <td>United Kingdom</td>\n",
              "    </tr>\n",
              "    <tr>\n",
              "      <th>540071</th>\n",
              "      <td>581459</td>\n",
              "      <td>22197</td>\n",
              "      <td>POPCORN HOLDER</td>\n",
              "      <td>1200</td>\n",
              "      <td>12/8/2011 18:46</td>\n",
              "      <td>0.72</td>\n",
              "      <td>17949.0</td>\n",
              "      <td>United Kingdom</td>\n",
              "    </tr>\n",
              "  </tbody>\n",
              "</table>\n",
              "<p>101 rows × 8 columns</p>\n",
              "</div>"
            ],
            "text/plain": [
              "       InvoiceNo StockCode  ... CustomerID         Country\n",
              "4850      536809     84950  ...    15299.0  United Kingdom\n",
              "4946      536830     21915  ...    16754.0  United Kingdom\n",
              "16435     537659     22189  ...    18102.0  United Kingdom\n",
              "16436     537659     22188  ...    18102.0  United Kingdom\n",
              "19149     537841     16014  ...    13848.0  United Kingdom\n",
              "...          ...       ...  ...        ...             ...\n",
              "520003    580243     21915  ...    16333.0  United Kingdom\n",
              "521375    580363     23582  ...    13868.0  United Kingdom\n",
              "533812    581115     22413  ...    15195.0  United Kingdom\n",
              "540070    581458     22197  ...    17949.0  United Kingdom\n",
              "540071    581459     22197  ...    17949.0  United Kingdom\n",
              "\n",
              "[101 rows x 8 columns]"
            ]
          },
          "metadata": {
            "tags": []
          },
          "execution_count": 33
        }
      ]
    },
    {
      "cell_type": "code",
      "metadata": {
        "id": "NE4k-4d0wYWJ",
        "colab_type": "code",
        "colab": {}
      },
      "source": [
        ""
      ],
      "execution_count": 0,
      "outputs": []
    }
  ]
}
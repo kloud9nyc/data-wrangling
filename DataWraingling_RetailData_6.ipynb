{
  "nbformat": 4,
  "nbformat_minor": 0,
  "metadata": {
    "colab": {
      "name": "DataWraingling_RetailData_6.ipynb",
      "provenance": [],
      "collapsed_sections": [],
      "authorship_tag": "ABX9TyO0vpSMaTpGxSURjE5j3mPD",
      "include_colab_link": true
    },
    "kernelspec": {
      "name": "python3",
      "display_name": "Python 3"
    }
  },
  "cells": [
    {
      "cell_type": "markdown",
      "metadata": {
        "id": "view-in-github",
        "colab_type": "text"
      },
      "source": [
        "<a href=\"https://colab.research.google.com/github/kloud9nyc/data-wrangling/blob/master/DataWraingling_RetailData_6.ipynb\" target=\"_parent\"><img src=\"https://colab.research.google.com/assets/colab-badge.svg\" alt=\"Open In Colab\"/></a>"
      ]
    },
    {
      "cell_type": "code",
      "metadata": {
        "id": "FXYQdkBEJUNG",
        "colab_type": "code",
        "colab": {
          "base_uri": "https://localhost:8080/",
          "height": 124
        },
        "outputId": "c3ef4f1a-47d9-4573-b9d8-0d0689569621"
      },
      "source": [
        "from google.colab import drive\n",
        "drive.mount('/content/drive')"
      ],
      "execution_count": 1,
      "outputs": [
        {
          "output_type": "stream",
          "text": [
            "Go to this URL in a browser: https://accounts.google.com/o/oauth2/auth?client_id=947318989803-6bn6qk8qdgf4n4g3pfee6491hc0brc4i.apps.googleusercontent.com&redirect_uri=urn%3aietf%3awg%3aoauth%3a2.0%3aoob&response_type=code&scope=email%20https%3a%2f%2fwww.googleapis.com%2fauth%2fdocs.test%20https%3a%2f%2fwww.googleapis.com%2fauth%2fdrive%20https%3a%2f%2fwww.googleapis.com%2fauth%2fdrive.photos.readonly%20https%3a%2f%2fwww.googleapis.com%2fauth%2fpeopleapi.readonly\n",
            "\n",
            "Enter your authorization code:\n",
            "··········\n",
            "Mounted at /content/drive\n"
          ],
          "name": "stdout"
        }
      ]
    },
    {
      "cell_type": "code",
      "metadata": {
        "id": "FwerDwz6JYrl",
        "colab_type": "code",
        "colab": {}
      },
      "source": [
        "import pandas as pd\n",
        "import numpy as np"
      ],
      "execution_count": 0,
      "outputs": []
    },
    {
      "cell_type": "code",
      "metadata": {
        "id": "aIrNSl7UJtZE",
        "colab_type": "code",
        "colab": {}
      },
      "source": [
        "data = pd.read_csv(\"/content/drive/My Drive/DataWrangling/onlineretail/OnlineRetail.csv\",encoding = \"ISO-8859-1\")"
      ],
      "execution_count": 0,
      "outputs": []
    },
    {
      "cell_type": "code",
      "metadata": {
        "id": "sr7T_ET4JvFa",
        "colab_type": "code",
        "colab": {
          "base_uri": "https://localhost:8080/",
          "height": 202
        },
        "outputId": "72b5de6f-2564-4471-ca0e-b76b125d5f78"
      },
      "source": [
        "data.head()"
      ],
      "execution_count": 4,
      "outputs": [
        {
          "output_type": "execute_result",
          "data": {
            "text/html": [
              "<div>\n",
              "<style scoped>\n",
              "    .dataframe tbody tr th:only-of-type {\n",
              "        vertical-align: middle;\n",
              "    }\n",
              "\n",
              "    .dataframe tbody tr th {\n",
              "        vertical-align: top;\n",
              "    }\n",
              "\n",
              "    .dataframe thead th {\n",
              "        text-align: right;\n",
              "    }\n",
              "</style>\n",
              "<table border=\"1\" class=\"dataframe\">\n",
              "  <thead>\n",
              "    <tr style=\"text-align: right;\">\n",
              "      <th></th>\n",
              "      <th>InvoiceNo</th>\n",
              "      <th>StockCode</th>\n",
              "      <th>Description</th>\n",
              "      <th>Quantity</th>\n",
              "      <th>InvoiceDate</th>\n",
              "      <th>UnitPrice</th>\n",
              "      <th>CustomerID</th>\n",
              "      <th>Country</th>\n",
              "    </tr>\n",
              "  </thead>\n",
              "  <tbody>\n",
              "    <tr>\n",
              "      <th>0</th>\n",
              "      <td>536365</td>\n",
              "      <td>85123A</td>\n",
              "      <td>WHITE HANGING HEART T-LIGHT HOLDER</td>\n",
              "      <td>6</td>\n",
              "      <td>12/1/2010 8:26</td>\n",
              "      <td>2.55</td>\n",
              "      <td>17850.0</td>\n",
              "      <td>United Kingdom</td>\n",
              "    </tr>\n",
              "    <tr>\n",
              "      <th>1</th>\n",
              "      <td>536365</td>\n",
              "      <td>71053</td>\n",
              "      <td>WHITE METAL LANTERN</td>\n",
              "      <td>6</td>\n",
              "      <td>12/1/2010 8:26</td>\n",
              "      <td>3.39</td>\n",
              "      <td>17850.0</td>\n",
              "      <td>United Kingdom</td>\n",
              "    </tr>\n",
              "    <tr>\n",
              "      <th>2</th>\n",
              "      <td>536365</td>\n",
              "      <td>84406B</td>\n",
              "      <td>CREAM CUPID HEARTS COAT HANGER</td>\n",
              "      <td>8</td>\n",
              "      <td>12/1/2010 8:26</td>\n",
              "      <td>2.75</td>\n",
              "      <td>17850.0</td>\n",
              "      <td>United Kingdom</td>\n",
              "    </tr>\n",
              "    <tr>\n",
              "      <th>3</th>\n",
              "      <td>536365</td>\n",
              "      <td>84029G</td>\n",
              "      <td>KNITTED UNION FLAG HOT WATER BOTTLE</td>\n",
              "      <td>6</td>\n",
              "      <td>12/1/2010 8:26</td>\n",
              "      <td>3.39</td>\n",
              "      <td>17850.0</td>\n",
              "      <td>United Kingdom</td>\n",
              "    </tr>\n",
              "    <tr>\n",
              "      <th>4</th>\n",
              "      <td>536365</td>\n",
              "      <td>84029E</td>\n",
              "      <td>RED WOOLLY HOTTIE WHITE HEART.</td>\n",
              "      <td>6</td>\n",
              "      <td>12/1/2010 8:26</td>\n",
              "      <td>3.39</td>\n",
              "      <td>17850.0</td>\n",
              "      <td>United Kingdom</td>\n",
              "    </tr>\n",
              "  </tbody>\n",
              "</table>\n",
              "</div>"
            ],
            "text/plain": [
              "  InvoiceNo StockCode  ... CustomerID         Country\n",
              "0    536365    85123A  ...    17850.0  United Kingdom\n",
              "1    536365     71053  ...    17850.0  United Kingdom\n",
              "2    536365    84406B  ...    17850.0  United Kingdom\n",
              "3    536365    84029G  ...    17850.0  United Kingdom\n",
              "4    536365    84029E  ...    17850.0  United Kingdom\n",
              "\n",
              "[5 rows x 8 columns]"
            ]
          },
          "metadata": {
            "tags": []
          },
          "execution_count": 4
        }
      ]
    },
    {
      "cell_type": "code",
      "metadata": {
        "id": "ewkJtvpVJya0",
        "colab_type": "code",
        "colab": {}
      },
      "source": [
        "NullData =data.CustomerID.isnull()"
      ],
      "execution_count": 0,
      "outputs": []
    },
    {
      "cell_type": "code",
      "metadata": {
        "id": "iF8OEf8BJ2c0",
        "colab_type": "code",
        "colab": {
          "base_uri": "https://localhost:8080/",
          "height": 415
        },
        "outputId": "b8afc7ff-d5d0-4b6c-b469-7f75b7d689d4"
      },
      "source": [
        "data[NullData]"
      ],
      "execution_count": 13,
      "outputs": [
        {
          "output_type": "execute_result",
          "data": {
            "text/html": [
              "<div>\n",
              "<style scoped>\n",
              "    .dataframe tbody tr th:only-of-type {\n",
              "        vertical-align: middle;\n",
              "    }\n",
              "\n",
              "    .dataframe tbody tr th {\n",
              "        vertical-align: top;\n",
              "    }\n",
              "\n",
              "    .dataframe thead th {\n",
              "        text-align: right;\n",
              "    }\n",
              "</style>\n",
              "<table border=\"1\" class=\"dataframe\">\n",
              "  <thead>\n",
              "    <tr style=\"text-align: right;\">\n",
              "      <th></th>\n",
              "      <th>InvoiceNo</th>\n",
              "      <th>StockCode</th>\n",
              "      <th>Description</th>\n",
              "      <th>Quantity</th>\n",
              "      <th>InvoiceDate</th>\n",
              "      <th>UnitPrice</th>\n",
              "      <th>CustomerID</th>\n",
              "      <th>Country</th>\n",
              "    </tr>\n",
              "  </thead>\n",
              "  <tbody>\n",
              "    <tr>\n",
              "      <th>622</th>\n",
              "      <td>536414</td>\n",
              "      <td>22139</td>\n",
              "      <td>NaN</td>\n",
              "      <td>56</td>\n",
              "      <td>12/1/2010 11:52</td>\n",
              "      <td>0.00</td>\n",
              "      <td>NaN</td>\n",
              "      <td>United Kingdom</td>\n",
              "    </tr>\n",
              "    <tr>\n",
              "      <th>1443</th>\n",
              "      <td>536544</td>\n",
              "      <td>21773</td>\n",
              "      <td>DECORATIVE ROSE BATHROOM BOTTLE</td>\n",
              "      <td>1</td>\n",
              "      <td>12/1/2010 14:32</td>\n",
              "      <td>2.51</td>\n",
              "      <td>NaN</td>\n",
              "      <td>United Kingdom</td>\n",
              "    </tr>\n",
              "    <tr>\n",
              "      <th>1444</th>\n",
              "      <td>536544</td>\n",
              "      <td>21774</td>\n",
              "      <td>DECORATIVE CATS BATHROOM BOTTLE</td>\n",
              "      <td>2</td>\n",
              "      <td>12/1/2010 14:32</td>\n",
              "      <td>2.51</td>\n",
              "      <td>NaN</td>\n",
              "      <td>United Kingdom</td>\n",
              "    </tr>\n",
              "    <tr>\n",
              "      <th>1445</th>\n",
              "      <td>536544</td>\n",
              "      <td>21786</td>\n",
              "      <td>POLKADOT RAIN HAT</td>\n",
              "      <td>4</td>\n",
              "      <td>12/1/2010 14:32</td>\n",
              "      <td>0.85</td>\n",
              "      <td>NaN</td>\n",
              "      <td>United Kingdom</td>\n",
              "    </tr>\n",
              "    <tr>\n",
              "      <th>1446</th>\n",
              "      <td>536544</td>\n",
              "      <td>21787</td>\n",
              "      <td>RAIN PONCHO RETROSPOT</td>\n",
              "      <td>2</td>\n",
              "      <td>12/1/2010 14:32</td>\n",
              "      <td>1.66</td>\n",
              "      <td>NaN</td>\n",
              "      <td>United Kingdom</td>\n",
              "    </tr>\n",
              "    <tr>\n",
              "      <th>...</th>\n",
              "      <td>...</td>\n",
              "      <td>...</td>\n",
              "      <td>...</td>\n",
              "      <td>...</td>\n",
              "      <td>...</td>\n",
              "      <td>...</td>\n",
              "      <td>...</td>\n",
              "      <td>...</td>\n",
              "    </tr>\n",
              "    <tr>\n",
              "      <th>541536</th>\n",
              "      <td>581498</td>\n",
              "      <td>85099B</td>\n",
              "      <td>JUMBO BAG RED RETROSPOT</td>\n",
              "      <td>5</td>\n",
              "      <td>12/9/2011 10:26</td>\n",
              "      <td>4.13</td>\n",
              "      <td>NaN</td>\n",
              "      <td>United Kingdom</td>\n",
              "    </tr>\n",
              "    <tr>\n",
              "      <th>541537</th>\n",
              "      <td>581498</td>\n",
              "      <td>85099C</td>\n",
              "      <td>JUMBO  BAG BAROQUE BLACK WHITE</td>\n",
              "      <td>4</td>\n",
              "      <td>12/9/2011 10:26</td>\n",
              "      <td>4.13</td>\n",
              "      <td>NaN</td>\n",
              "      <td>United Kingdom</td>\n",
              "    </tr>\n",
              "    <tr>\n",
              "      <th>541538</th>\n",
              "      <td>581498</td>\n",
              "      <td>85150</td>\n",
              "      <td>LADIES &amp; GENTLEMEN METAL SIGN</td>\n",
              "      <td>1</td>\n",
              "      <td>12/9/2011 10:26</td>\n",
              "      <td>4.96</td>\n",
              "      <td>NaN</td>\n",
              "      <td>United Kingdom</td>\n",
              "    </tr>\n",
              "    <tr>\n",
              "      <th>541539</th>\n",
              "      <td>581498</td>\n",
              "      <td>85174</td>\n",
              "      <td>S/4 CACTI CANDLES</td>\n",
              "      <td>1</td>\n",
              "      <td>12/9/2011 10:26</td>\n",
              "      <td>10.79</td>\n",
              "      <td>NaN</td>\n",
              "      <td>United Kingdom</td>\n",
              "    </tr>\n",
              "    <tr>\n",
              "      <th>541540</th>\n",
              "      <td>581498</td>\n",
              "      <td>DOT</td>\n",
              "      <td>DOTCOM POSTAGE</td>\n",
              "      <td>1</td>\n",
              "      <td>12/9/2011 10:26</td>\n",
              "      <td>1714.17</td>\n",
              "      <td>NaN</td>\n",
              "      <td>United Kingdom</td>\n",
              "    </tr>\n",
              "  </tbody>\n",
              "</table>\n",
              "<p>135080 rows × 8 columns</p>\n",
              "</div>"
            ],
            "text/plain": [
              "       InvoiceNo StockCode  ... CustomerID         Country\n",
              "622       536414     22139  ...        NaN  United Kingdom\n",
              "1443      536544     21773  ...        NaN  United Kingdom\n",
              "1444      536544     21774  ...        NaN  United Kingdom\n",
              "1445      536544     21786  ...        NaN  United Kingdom\n",
              "1446      536544     21787  ...        NaN  United Kingdom\n",
              "...          ...       ...  ...        ...             ...\n",
              "541536    581498    85099B  ...        NaN  United Kingdom\n",
              "541537    581498    85099C  ...        NaN  United Kingdom\n",
              "541538    581498     85150  ...        NaN  United Kingdom\n",
              "541539    581498     85174  ...        NaN  United Kingdom\n",
              "541540    581498       DOT  ...        NaN  United Kingdom\n",
              "\n",
              "[135080 rows x 8 columns]"
            ]
          },
          "metadata": {
            "tags": []
          },
          "execution_count": 13
        }
      ]
    },
    {
      "cell_type": "code",
      "metadata": {
        "id": "JplvIw9bKDA0",
        "colab_type": "code",
        "colab": {}
      },
      "source": [
        "l = data.replace(np.nan,0)"
      ],
      "execution_count": 0,
      "outputs": []
    },
    {
      "cell_type": "code",
      "metadata": {
        "id": "4WhhTy4_KUYT",
        "colab_type": "code",
        "colab": {
          "base_uri": "https://localhost:8080/",
          "height": 173
        },
        "outputId": "79487efb-d8a3-4fef-abae-4b10e6e74eed"
      },
      "source": [
        "data.iloc[541536]"
      ],
      "execution_count": 10,
      "outputs": [
        {
          "output_type": "execute_result",
          "data": {
            "text/plain": [
              "InvoiceNo                       581498\n",
              "StockCode                       85099B\n",
              "Description    JUMBO BAG RED RETROSPOT\n",
              "Quantity                             5\n",
              "InvoiceDate            12/9/2011 10:26\n",
              "UnitPrice                         4.13\n",
              "CustomerID                         NaN\n",
              "Country                 United Kingdom\n",
              "Name: 541536, dtype: object"
            ]
          },
          "metadata": {
            "tags": []
          },
          "execution_count": 10
        }
      ]
    },
    {
      "cell_type": "code",
      "metadata": {
        "id": "shX80I1hKZ9T",
        "colab_type": "code",
        "colab": {
          "base_uri": "https://localhost:8080/",
          "height": 415
        },
        "outputId": "c6b226f1-a629-4bca-e0e6-eb17fe9b8d87"
      },
      "source": [
        "l"
      ],
      "execution_count": 15,
      "outputs": [
        {
          "output_type": "execute_result",
          "data": {
            "text/html": [
              "<div>\n",
              "<style scoped>\n",
              "    .dataframe tbody tr th:only-of-type {\n",
              "        vertical-align: middle;\n",
              "    }\n",
              "\n",
              "    .dataframe tbody tr th {\n",
              "        vertical-align: top;\n",
              "    }\n",
              "\n",
              "    .dataframe thead th {\n",
              "        text-align: right;\n",
              "    }\n",
              "</style>\n",
              "<table border=\"1\" class=\"dataframe\">\n",
              "  <thead>\n",
              "    <tr style=\"text-align: right;\">\n",
              "      <th></th>\n",
              "      <th>InvoiceNo</th>\n",
              "      <th>StockCode</th>\n",
              "      <th>Description</th>\n",
              "      <th>Quantity</th>\n",
              "      <th>InvoiceDate</th>\n",
              "      <th>UnitPrice</th>\n",
              "      <th>CustomerID</th>\n",
              "      <th>Country</th>\n",
              "    </tr>\n",
              "  </thead>\n",
              "  <tbody>\n",
              "    <tr>\n",
              "      <th>0</th>\n",
              "      <td>536365</td>\n",
              "      <td>85123A</td>\n",
              "      <td>WHITE HANGING HEART T-LIGHT HOLDER</td>\n",
              "      <td>6</td>\n",
              "      <td>12/1/2010 8:26</td>\n",
              "      <td>2.55</td>\n",
              "      <td>17850.0</td>\n",
              "      <td>United Kingdom</td>\n",
              "    </tr>\n",
              "    <tr>\n",
              "      <th>1</th>\n",
              "      <td>536365</td>\n",
              "      <td>71053</td>\n",
              "      <td>WHITE METAL LANTERN</td>\n",
              "      <td>6</td>\n",
              "      <td>12/1/2010 8:26</td>\n",
              "      <td>3.39</td>\n",
              "      <td>17850.0</td>\n",
              "      <td>United Kingdom</td>\n",
              "    </tr>\n",
              "    <tr>\n",
              "      <th>2</th>\n",
              "      <td>536365</td>\n",
              "      <td>84406B</td>\n",
              "      <td>CREAM CUPID HEARTS COAT HANGER</td>\n",
              "      <td>8</td>\n",
              "      <td>12/1/2010 8:26</td>\n",
              "      <td>2.75</td>\n",
              "      <td>17850.0</td>\n",
              "      <td>United Kingdom</td>\n",
              "    </tr>\n",
              "    <tr>\n",
              "      <th>3</th>\n",
              "      <td>536365</td>\n",
              "      <td>84029G</td>\n",
              "      <td>KNITTED UNION FLAG HOT WATER BOTTLE</td>\n",
              "      <td>6</td>\n",
              "      <td>12/1/2010 8:26</td>\n",
              "      <td>3.39</td>\n",
              "      <td>17850.0</td>\n",
              "      <td>United Kingdom</td>\n",
              "    </tr>\n",
              "    <tr>\n",
              "      <th>4</th>\n",
              "      <td>536365</td>\n",
              "      <td>84029E</td>\n",
              "      <td>RED WOOLLY HOTTIE WHITE HEART.</td>\n",
              "      <td>6</td>\n",
              "      <td>12/1/2010 8:26</td>\n",
              "      <td>3.39</td>\n",
              "      <td>17850.0</td>\n",
              "      <td>United Kingdom</td>\n",
              "    </tr>\n",
              "    <tr>\n",
              "      <th>...</th>\n",
              "      <td>...</td>\n",
              "      <td>...</td>\n",
              "      <td>...</td>\n",
              "      <td>...</td>\n",
              "      <td>...</td>\n",
              "      <td>...</td>\n",
              "      <td>...</td>\n",
              "      <td>...</td>\n",
              "    </tr>\n",
              "    <tr>\n",
              "      <th>541904</th>\n",
              "      <td>581587</td>\n",
              "      <td>22613</td>\n",
              "      <td>PACK OF 20 SPACEBOY NAPKINS</td>\n",
              "      <td>12</td>\n",
              "      <td>12/9/2011 12:50</td>\n",
              "      <td>0.85</td>\n",
              "      <td>12680.0</td>\n",
              "      <td>France</td>\n",
              "    </tr>\n",
              "    <tr>\n",
              "      <th>541905</th>\n",
              "      <td>581587</td>\n",
              "      <td>22899</td>\n",
              "      <td>CHILDREN'S APRON DOLLY GIRL</td>\n",
              "      <td>6</td>\n",
              "      <td>12/9/2011 12:50</td>\n",
              "      <td>2.10</td>\n",
              "      <td>12680.0</td>\n",
              "      <td>France</td>\n",
              "    </tr>\n",
              "    <tr>\n",
              "      <th>541906</th>\n",
              "      <td>581587</td>\n",
              "      <td>23254</td>\n",
              "      <td>CHILDRENS CUTLERY DOLLY GIRL</td>\n",
              "      <td>4</td>\n",
              "      <td>12/9/2011 12:50</td>\n",
              "      <td>4.15</td>\n",
              "      <td>12680.0</td>\n",
              "      <td>France</td>\n",
              "    </tr>\n",
              "    <tr>\n",
              "      <th>541907</th>\n",
              "      <td>581587</td>\n",
              "      <td>23255</td>\n",
              "      <td>CHILDRENS CUTLERY CIRCUS PARADE</td>\n",
              "      <td>4</td>\n",
              "      <td>12/9/2011 12:50</td>\n",
              "      <td>4.15</td>\n",
              "      <td>12680.0</td>\n",
              "      <td>France</td>\n",
              "    </tr>\n",
              "    <tr>\n",
              "      <th>541908</th>\n",
              "      <td>581587</td>\n",
              "      <td>22138</td>\n",
              "      <td>BAKING SET 9 PIECE RETROSPOT</td>\n",
              "      <td>3</td>\n",
              "      <td>12/9/2011 12:50</td>\n",
              "      <td>4.95</td>\n",
              "      <td>12680.0</td>\n",
              "      <td>France</td>\n",
              "    </tr>\n",
              "  </tbody>\n",
              "</table>\n",
              "<p>541909 rows × 8 columns</p>\n",
              "</div>"
            ],
            "text/plain": [
              "       InvoiceNo StockCode  ... CustomerID         Country\n",
              "0         536365    85123A  ...    17850.0  United Kingdom\n",
              "1         536365     71053  ...    17850.0  United Kingdom\n",
              "2         536365    84406B  ...    17850.0  United Kingdom\n",
              "3         536365    84029G  ...    17850.0  United Kingdom\n",
              "4         536365    84029E  ...    17850.0  United Kingdom\n",
              "...          ...       ...  ...        ...             ...\n",
              "541904    581587     22613  ...    12680.0          France\n",
              "541905    581587     22899  ...    12680.0          France\n",
              "541906    581587     23254  ...    12680.0          France\n",
              "541907    581587     23255  ...    12680.0          France\n",
              "541908    581587     22138  ...    12680.0          France\n",
              "\n",
              "[541909 rows x 8 columns]"
            ]
          },
          "metadata": {
            "tags": []
          },
          "execution_count": 15
        }
      ]
    },
    {
      "cell_type": "code",
      "metadata": {
        "id": "sa0nxMNIK1GD",
        "colab_type": "code",
        "colab": {
          "base_uri": "https://localhost:8080/",
          "height": 173
        },
        "outputId": "ade90c7a-02d6-49b0-cd68-5a276623c427"
      },
      "source": [
        "l.iloc[541540]"
      ],
      "execution_count": 20,
      "outputs": [
        {
          "output_type": "execute_result",
          "data": {
            "text/plain": [
              "InvoiceNo               581498\n",
              "StockCode                  DOT\n",
              "Description     DOTCOM POSTAGE\n",
              "Quantity                     1\n",
              "InvoiceDate    12/9/2011 10:26\n",
              "UnitPrice              1714.17\n",
              "CustomerID                   0\n",
              "Country         United Kingdom\n",
              "Name: 541540, dtype: object"
            ]
          },
          "metadata": {
            "tags": []
          },
          "execution_count": 20
        }
      ]
    },
    {
      "cell_type": "code",
      "metadata": {
        "id": "FRWq7GcYK6fI",
        "colab_type": "code",
        "colab": {}
      },
      "source": [
        "l.to_csv(\"/content/drive/My Drive/DataWrangling/onlineretail/result.csv\")"
      ],
      "execution_count": 0,
      "outputs": []
    },
    {
      "cell_type": "code",
      "metadata": {
        "id": "CUCzq2P4LmOC",
        "colab_type": "code",
        "colab": {}
      },
      "source": [
        "data[\"extraColumn\"]=\"I am Extra\""
      ],
      "execution_count": 0,
      "outputs": []
    },
    {
      "cell_type": "code",
      "metadata": {
        "id": "IY6QKVGHL-mq",
        "colab_type": "code",
        "colab": {
          "base_uri": "https://localhost:8080/",
          "height": 69
        },
        "outputId": "74169330-340d-435b-f434-4f26d0f9ef10"
      },
      "source": [
        "data.columns"
      ],
      "execution_count": 24,
      "outputs": [
        {
          "output_type": "execute_result",
          "data": {
            "text/plain": [
              "Index(['InvoiceNo', 'StockCode', 'Description', 'Quantity', 'InvoiceDate',\n",
              "       'UnitPrice', 'CustomerID', 'Country', 'extraColumn'],\n",
              "      dtype='object')"
            ]
          },
          "metadata": {
            "tags": []
          },
          "execution_count": 24
        }
      ]
    },
    {
      "cell_type": "code",
      "metadata": {
        "id": "xuPCb1nyMAkB",
        "colab_type": "code",
        "colab": {
          "base_uri": "https://localhost:8080/",
          "height": 415
        },
        "outputId": "c9f6e1a1-c06c-410d-d3da-e1501c49ed8e"
      },
      "source": [
        "data"
      ],
      "execution_count": 25,
      "outputs": [
        {
          "output_type": "execute_result",
          "data": {
            "text/html": [
              "<div>\n",
              "<style scoped>\n",
              "    .dataframe tbody tr th:only-of-type {\n",
              "        vertical-align: middle;\n",
              "    }\n",
              "\n",
              "    .dataframe tbody tr th {\n",
              "        vertical-align: top;\n",
              "    }\n",
              "\n",
              "    .dataframe thead th {\n",
              "        text-align: right;\n",
              "    }\n",
              "</style>\n",
              "<table border=\"1\" class=\"dataframe\">\n",
              "  <thead>\n",
              "    <tr style=\"text-align: right;\">\n",
              "      <th></th>\n",
              "      <th>InvoiceNo</th>\n",
              "      <th>StockCode</th>\n",
              "      <th>Description</th>\n",
              "      <th>Quantity</th>\n",
              "      <th>InvoiceDate</th>\n",
              "      <th>UnitPrice</th>\n",
              "      <th>CustomerID</th>\n",
              "      <th>Country</th>\n",
              "      <th>extraColumn</th>\n",
              "    </tr>\n",
              "  </thead>\n",
              "  <tbody>\n",
              "    <tr>\n",
              "      <th>0</th>\n",
              "      <td>536365</td>\n",
              "      <td>85123A</td>\n",
              "      <td>WHITE HANGING HEART T-LIGHT HOLDER</td>\n",
              "      <td>6</td>\n",
              "      <td>12/1/2010 8:26</td>\n",
              "      <td>2.55</td>\n",
              "      <td>17850.0</td>\n",
              "      <td>United Kingdom</td>\n",
              "      <td>I am Extra</td>\n",
              "    </tr>\n",
              "    <tr>\n",
              "      <th>1</th>\n",
              "      <td>536365</td>\n",
              "      <td>71053</td>\n",
              "      <td>WHITE METAL LANTERN</td>\n",
              "      <td>6</td>\n",
              "      <td>12/1/2010 8:26</td>\n",
              "      <td>3.39</td>\n",
              "      <td>17850.0</td>\n",
              "      <td>United Kingdom</td>\n",
              "      <td>I am Extra</td>\n",
              "    </tr>\n",
              "    <tr>\n",
              "      <th>2</th>\n",
              "      <td>536365</td>\n",
              "      <td>84406B</td>\n",
              "      <td>CREAM CUPID HEARTS COAT HANGER</td>\n",
              "      <td>8</td>\n",
              "      <td>12/1/2010 8:26</td>\n",
              "      <td>2.75</td>\n",
              "      <td>17850.0</td>\n",
              "      <td>United Kingdom</td>\n",
              "      <td>I am Extra</td>\n",
              "    </tr>\n",
              "    <tr>\n",
              "      <th>3</th>\n",
              "      <td>536365</td>\n",
              "      <td>84029G</td>\n",
              "      <td>KNITTED UNION FLAG HOT WATER BOTTLE</td>\n",
              "      <td>6</td>\n",
              "      <td>12/1/2010 8:26</td>\n",
              "      <td>3.39</td>\n",
              "      <td>17850.0</td>\n",
              "      <td>United Kingdom</td>\n",
              "      <td>I am Extra</td>\n",
              "    </tr>\n",
              "    <tr>\n",
              "      <th>4</th>\n",
              "      <td>536365</td>\n",
              "      <td>84029E</td>\n",
              "      <td>RED WOOLLY HOTTIE WHITE HEART.</td>\n",
              "      <td>6</td>\n",
              "      <td>12/1/2010 8:26</td>\n",
              "      <td>3.39</td>\n",
              "      <td>17850.0</td>\n",
              "      <td>United Kingdom</td>\n",
              "      <td>I am Extra</td>\n",
              "    </tr>\n",
              "    <tr>\n",
              "      <th>...</th>\n",
              "      <td>...</td>\n",
              "      <td>...</td>\n",
              "      <td>...</td>\n",
              "      <td>...</td>\n",
              "      <td>...</td>\n",
              "      <td>...</td>\n",
              "      <td>...</td>\n",
              "      <td>...</td>\n",
              "      <td>...</td>\n",
              "    </tr>\n",
              "    <tr>\n",
              "      <th>541904</th>\n",
              "      <td>581587</td>\n",
              "      <td>22613</td>\n",
              "      <td>PACK OF 20 SPACEBOY NAPKINS</td>\n",
              "      <td>12</td>\n",
              "      <td>12/9/2011 12:50</td>\n",
              "      <td>0.85</td>\n",
              "      <td>12680.0</td>\n",
              "      <td>France</td>\n",
              "      <td>I am Extra</td>\n",
              "    </tr>\n",
              "    <tr>\n",
              "      <th>541905</th>\n",
              "      <td>581587</td>\n",
              "      <td>22899</td>\n",
              "      <td>CHILDREN'S APRON DOLLY GIRL</td>\n",
              "      <td>6</td>\n",
              "      <td>12/9/2011 12:50</td>\n",
              "      <td>2.10</td>\n",
              "      <td>12680.0</td>\n",
              "      <td>France</td>\n",
              "      <td>I am Extra</td>\n",
              "    </tr>\n",
              "    <tr>\n",
              "      <th>541906</th>\n",
              "      <td>581587</td>\n",
              "      <td>23254</td>\n",
              "      <td>CHILDRENS CUTLERY DOLLY GIRL</td>\n",
              "      <td>4</td>\n",
              "      <td>12/9/2011 12:50</td>\n",
              "      <td>4.15</td>\n",
              "      <td>12680.0</td>\n",
              "      <td>France</td>\n",
              "      <td>I am Extra</td>\n",
              "    </tr>\n",
              "    <tr>\n",
              "      <th>541907</th>\n",
              "      <td>581587</td>\n",
              "      <td>23255</td>\n",
              "      <td>CHILDRENS CUTLERY CIRCUS PARADE</td>\n",
              "      <td>4</td>\n",
              "      <td>12/9/2011 12:50</td>\n",
              "      <td>4.15</td>\n",
              "      <td>12680.0</td>\n",
              "      <td>France</td>\n",
              "      <td>I am Extra</td>\n",
              "    </tr>\n",
              "    <tr>\n",
              "      <th>541908</th>\n",
              "      <td>581587</td>\n",
              "      <td>22138</td>\n",
              "      <td>BAKING SET 9 PIECE RETROSPOT</td>\n",
              "      <td>3</td>\n",
              "      <td>12/9/2011 12:50</td>\n",
              "      <td>4.95</td>\n",
              "      <td>12680.0</td>\n",
              "      <td>France</td>\n",
              "      <td>I am Extra</td>\n",
              "    </tr>\n",
              "  </tbody>\n",
              "</table>\n",
              "<p>541909 rows × 9 columns</p>\n",
              "</div>"
            ],
            "text/plain": [
              "       InvoiceNo StockCode  ...         Country  extraColumn\n",
              "0         536365    85123A  ...  United Kingdom   I am Extra\n",
              "1         536365     71053  ...  United Kingdom   I am Extra\n",
              "2         536365    84406B  ...  United Kingdom   I am Extra\n",
              "3         536365    84029G  ...  United Kingdom   I am Extra\n",
              "4         536365    84029E  ...  United Kingdom   I am Extra\n",
              "...          ...       ...  ...             ...          ...\n",
              "541904    581587     22613  ...          France   I am Extra\n",
              "541905    581587     22899  ...          France   I am Extra\n",
              "541906    581587     23254  ...          France   I am Extra\n",
              "541907    581587     23255  ...          France   I am Extra\n",
              "541908    581587     22138  ...          France   I am Extra\n",
              "\n",
              "[541909 rows x 9 columns]"
            ]
          },
          "metadata": {
            "tags": []
          },
          "execution_count": 25
        }
      ]
    },
    {
      "cell_type": "code",
      "metadata": {
        "id": "HtUUsv7sMDnR",
        "colab_type": "code",
        "colab": {
          "base_uri": "https://localhost:8080/",
          "height": 191
        },
        "outputId": "f0215460-6546-459d-d727-f85df513361b"
      },
      "source": [
        "data.isnull().sum()"
      ],
      "execution_count": 26,
      "outputs": [
        {
          "output_type": "execute_result",
          "data": {
            "text/plain": [
              "InvoiceNo           0\n",
              "StockCode           0\n",
              "Description      1454\n",
              "Quantity            0\n",
              "InvoiceDate         0\n",
              "UnitPrice           0\n",
              "CustomerID     135080\n",
              "Country             0\n",
              "extraColumn         0\n",
              "dtype: int64"
            ]
          },
          "metadata": {
            "tags": []
          },
          "execution_count": 26
        }
      ]
    },
    {
      "cell_type": "code",
      "metadata": {
        "id": "IHHMCfaBM8jj",
        "colab_type": "code",
        "colab": {
          "base_uri": "https://localhost:8080/",
          "height": 35
        },
        "outputId": "e4e2c3d4-c18c-4a33-f675-ddcd3d4e2f44"
      },
      "source": [
        "data.isnull().sum().sum()"
      ],
      "execution_count": 27,
      "outputs": [
        {
          "output_type": "execute_result",
          "data": {
            "text/plain": [
              "136534"
            ]
          },
          "metadata": {
            "tags": []
          },
          "execution_count": 27
        }
      ]
    },
    {
      "cell_type": "code",
      "metadata": {
        "id": "MVaI2mTvOAcO",
        "colab_type": "code",
        "colab": {
          "base_uri": "https://localhost:8080/",
          "height": 191
        },
        "outputId": "c97e67ab-1201-41c8-d556-83346682ada4"
      },
      "source": [
        "data.count()"
      ],
      "execution_count": 31,
      "outputs": [
        {
          "output_type": "execute_result",
          "data": {
            "text/plain": [
              "InvoiceNo      541909\n",
              "StockCode      541909\n",
              "Description    540455\n",
              "Quantity       541909\n",
              "InvoiceDate    541909\n",
              "UnitPrice      541909\n",
              "CustomerID     406829\n",
              "Country        541909\n",
              "extraColumn    541909\n",
              "dtype: int64"
            ]
          },
          "metadata": {
            "tags": []
          },
          "execution_count": 31
        }
      ]
    },
    {
      "cell_type": "code",
      "metadata": {
        "id": "QcyhJQHkOHVv",
        "colab_type": "code",
        "colab": {}
      },
      "source": [
        "m = data"
      ],
      "execution_count": 0,
      "outputs": []
    },
    {
      "cell_type": "code",
      "metadata": {
        "id": "hXw-mmw8OUKd",
        "colab_type": "code",
        "colab": {}
      },
      "source": [
        "missing_df = m.dropna()"
      ],
      "execution_count": 0,
      "outputs": []
    },
    {
      "cell_type": "code",
      "metadata": {
        "id": "eQlwW1HmOV2t",
        "colab_type": "code",
        "colab": {
          "base_uri": "https://localhost:8080/",
          "height": 191
        },
        "outputId": "e7476a13-fe76-41e1-9e33-1a557708c9f2"
      },
      "source": [
        "missing_df.count()"
      ],
      "execution_count": 43,
      "outputs": [
        {
          "output_type": "execute_result",
          "data": {
            "text/plain": [
              "InvoiceNo      406829\n",
              "StockCode      406829\n",
              "Description    406829\n",
              "Quantity       406829\n",
              "InvoiceDate    406829\n",
              "UnitPrice      406829\n",
              "CustomerID     406829\n",
              "Country        406829\n",
              "extraColumn    406829\n",
              "dtype: int64"
            ]
          },
          "metadata": {
            "tags": []
          },
          "execution_count": 43
        }
      ]
    },
    {
      "cell_type": "code",
      "metadata": {
        "id": "_ow7MfvKOZDN",
        "colab_type": "code",
        "colab": {
          "base_uri": "https://localhost:8080/",
          "height": 415
        },
        "outputId": "c4d01cac-3a1e-4180-dab2-b4bfb0b4718d"
      },
      "source": [
        "data.fillna('Test')"
      ],
      "execution_count": 44,
      "outputs": [
        {
          "output_type": "execute_result",
          "data": {
            "text/html": [
              "<div>\n",
              "<style scoped>\n",
              "    .dataframe tbody tr th:only-of-type {\n",
              "        vertical-align: middle;\n",
              "    }\n",
              "\n",
              "    .dataframe tbody tr th {\n",
              "        vertical-align: top;\n",
              "    }\n",
              "\n",
              "    .dataframe thead th {\n",
              "        text-align: right;\n",
              "    }\n",
              "</style>\n",
              "<table border=\"1\" class=\"dataframe\">\n",
              "  <thead>\n",
              "    <tr style=\"text-align: right;\">\n",
              "      <th></th>\n",
              "      <th>InvoiceNo</th>\n",
              "      <th>StockCode</th>\n",
              "      <th>Description</th>\n",
              "      <th>Quantity</th>\n",
              "      <th>InvoiceDate</th>\n",
              "      <th>UnitPrice</th>\n",
              "      <th>CustomerID</th>\n",
              "      <th>Country</th>\n",
              "      <th>extraColumn</th>\n",
              "    </tr>\n",
              "  </thead>\n",
              "  <tbody>\n",
              "    <tr>\n",
              "      <th>0</th>\n",
              "      <td>536365</td>\n",
              "      <td>85123A</td>\n",
              "      <td>WHITE HANGING HEART T-LIGHT HOLDER</td>\n",
              "      <td>6</td>\n",
              "      <td>12/1/2010 8:26</td>\n",
              "      <td>2.55</td>\n",
              "      <td>17850</td>\n",
              "      <td>United Kingdom</td>\n",
              "      <td>I am Extra</td>\n",
              "    </tr>\n",
              "    <tr>\n",
              "      <th>1</th>\n",
              "      <td>536365</td>\n",
              "      <td>71053</td>\n",
              "      <td>WHITE METAL LANTERN</td>\n",
              "      <td>6</td>\n",
              "      <td>12/1/2010 8:26</td>\n",
              "      <td>3.39</td>\n",
              "      <td>17850</td>\n",
              "      <td>United Kingdom</td>\n",
              "      <td>I am Extra</td>\n",
              "    </tr>\n",
              "    <tr>\n",
              "      <th>2</th>\n",
              "      <td>536365</td>\n",
              "      <td>84406B</td>\n",
              "      <td>CREAM CUPID HEARTS COAT HANGER</td>\n",
              "      <td>8</td>\n",
              "      <td>12/1/2010 8:26</td>\n",
              "      <td>2.75</td>\n",
              "      <td>17850</td>\n",
              "      <td>United Kingdom</td>\n",
              "      <td>I am Extra</td>\n",
              "    </tr>\n",
              "    <tr>\n",
              "      <th>3</th>\n",
              "      <td>536365</td>\n",
              "      <td>84029G</td>\n",
              "      <td>KNITTED UNION FLAG HOT WATER BOTTLE</td>\n",
              "      <td>6</td>\n",
              "      <td>12/1/2010 8:26</td>\n",
              "      <td>3.39</td>\n",
              "      <td>17850</td>\n",
              "      <td>United Kingdom</td>\n",
              "      <td>I am Extra</td>\n",
              "    </tr>\n",
              "    <tr>\n",
              "      <th>4</th>\n",
              "      <td>536365</td>\n",
              "      <td>84029E</td>\n",
              "      <td>RED WOOLLY HOTTIE WHITE HEART.</td>\n",
              "      <td>6</td>\n",
              "      <td>12/1/2010 8:26</td>\n",
              "      <td>3.39</td>\n",
              "      <td>17850</td>\n",
              "      <td>United Kingdom</td>\n",
              "      <td>I am Extra</td>\n",
              "    </tr>\n",
              "    <tr>\n",
              "      <th>...</th>\n",
              "      <td>...</td>\n",
              "      <td>...</td>\n",
              "      <td>...</td>\n",
              "      <td>...</td>\n",
              "      <td>...</td>\n",
              "      <td>...</td>\n",
              "      <td>...</td>\n",
              "      <td>...</td>\n",
              "      <td>...</td>\n",
              "    </tr>\n",
              "    <tr>\n",
              "      <th>541904</th>\n",
              "      <td>581587</td>\n",
              "      <td>22613</td>\n",
              "      <td>PACK OF 20 SPACEBOY NAPKINS</td>\n",
              "      <td>12</td>\n",
              "      <td>12/9/2011 12:50</td>\n",
              "      <td>0.85</td>\n",
              "      <td>12680</td>\n",
              "      <td>France</td>\n",
              "      <td>I am Extra</td>\n",
              "    </tr>\n",
              "    <tr>\n",
              "      <th>541905</th>\n",
              "      <td>581587</td>\n",
              "      <td>22899</td>\n",
              "      <td>CHILDREN'S APRON DOLLY GIRL</td>\n",
              "      <td>6</td>\n",
              "      <td>12/9/2011 12:50</td>\n",
              "      <td>2.10</td>\n",
              "      <td>12680</td>\n",
              "      <td>France</td>\n",
              "      <td>I am Extra</td>\n",
              "    </tr>\n",
              "    <tr>\n",
              "      <th>541906</th>\n",
              "      <td>581587</td>\n",
              "      <td>23254</td>\n",
              "      <td>CHILDRENS CUTLERY DOLLY GIRL</td>\n",
              "      <td>4</td>\n",
              "      <td>12/9/2011 12:50</td>\n",
              "      <td>4.15</td>\n",
              "      <td>12680</td>\n",
              "      <td>France</td>\n",
              "      <td>I am Extra</td>\n",
              "    </tr>\n",
              "    <tr>\n",
              "      <th>541907</th>\n",
              "      <td>581587</td>\n",
              "      <td>23255</td>\n",
              "      <td>CHILDRENS CUTLERY CIRCUS PARADE</td>\n",
              "      <td>4</td>\n",
              "      <td>12/9/2011 12:50</td>\n",
              "      <td>4.15</td>\n",
              "      <td>12680</td>\n",
              "      <td>France</td>\n",
              "      <td>I am Extra</td>\n",
              "    </tr>\n",
              "    <tr>\n",
              "      <th>541908</th>\n",
              "      <td>581587</td>\n",
              "      <td>22138</td>\n",
              "      <td>BAKING SET 9 PIECE RETROSPOT</td>\n",
              "      <td>3</td>\n",
              "      <td>12/9/2011 12:50</td>\n",
              "      <td>4.95</td>\n",
              "      <td>12680</td>\n",
              "      <td>France</td>\n",
              "      <td>I am Extra</td>\n",
              "    </tr>\n",
              "  </tbody>\n",
              "</table>\n",
              "<p>541909 rows × 9 columns</p>\n",
              "</div>"
            ],
            "text/plain": [
              "       InvoiceNo StockCode  ...         Country  extraColumn\n",
              "0         536365    85123A  ...  United Kingdom   I am Extra\n",
              "1         536365     71053  ...  United Kingdom   I am Extra\n",
              "2         536365    84406B  ...  United Kingdom   I am Extra\n",
              "3         536365    84029G  ...  United Kingdom   I am Extra\n",
              "4         536365    84029E  ...  United Kingdom   I am Extra\n",
              "...          ...       ...  ...             ...          ...\n",
              "541904    581587     22613  ...          France   I am Extra\n",
              "541905    581587     22899  ...          France   I am Extra\n",
              "541906    581587     23254  ...          France   I am Extra\n",
              "541907    581587     23255  ...          France   I am Extra\n",
              "541908    581587     22138  ...          France   I am Extra\n",
              "\n",
              "[541909 rows x 9 columns]"
            ]
          },
          "metadata": {
            "tags": []
          },
          "execution_count": 44
        }
      ]
    },
    {
      "cell_type": "code",
      "metadata": {
        "id": "cfRUGTl8Pe1s",
        "colab_type": "code",
        "colab": {}
      },
      "source": [
        "data[\"Quantity\"].fillna(data[\"Quantity\"].mean(), inplace=True)"
      ],
      "execution_count": 0,
      "outputs": []
    },
    {
      "cell_type": "code",
      "metadata": {
        "id": "kKGQ3vMZPsp8",
        "colab_type": "code",
        "colab": {
          "base_uri": "https://localhost:8080/",
          "height": 35
        },
        "outputId": "ee90ec97-fdb8-4c96-de5a-809163e6a5b6"
      },
      "source": [
        "data.duplicated().sum()"
      ],
      "execution_count": 47,
      "outputs": [
        {
          "output_type": "execute_result",
          "data": {
            "text/plain": [
              "5268"
            ]
          },
          "metadata": {
            "tags": []
          },
          "execution_count": 47
        }
      ]
    },
    {
      "cell_type": "code",
      "metadata": {
        "id": "nU9o9RaFP0Jr",
        "colab_type": "code",
        "colab": {}
      },
      "source": [
        "DuplicatedData = data.duplicated()"
      ],
      "execution_count": 0,
      "outputs": []
    },
    {
      "cell_type": "code",
      "metadata": {
        "id": "fjX7DSWNQCwS",
        "colab_type": "code",
        "colab": {
          "base_uri": "https://localhost:8080/",
          "height": 415
        },
        "outputId": "b71e285d-9894-43e7-f949-bea5d60becf4"
      },
      "source": [
        "data.loc[DuplicatedData]"
      ],
      "execution_count": 53,
      "outputs": [
        {
          "output_type": "execute_result",
          "data": {
            "text/html": [
              "<div>\n",
              "<style scoped>\n",
              "    .dataframe tbody tr th:only-of-type {\n",
              "        vertical-align: middle;\n",
              "    }\n",
              "\n",
              "    .dataframe tbody tr th {\n",
              "        vertical-align: top;\n",
              "    }\n",
              "\n",
              "    .dataframe thead th {\n",
              "        text-align: right;\n",
              "    }\n",
              "</style>\n",
              "<table border=\"1\" class=\"dataframe\">\n",
              "  <thead>\n",
              "    <tr style=\"text-align: right;\">\n",
              "      <th></th>\n",
              "      <th>InvoiceNo</th>\n",
              "      <th>StockCode</th>\n",
              "      <th>Description</th>\n",
              "      <th>Quantity</th>\n",
              "      <th>InvoiceDate</th>\n",
              "      <th>UnitPrice</th>\n",
              "      <th>CustomerID</th>\n",
              "      <th>Country</th>\n",
              "      <th>extraColumn</th>\n",
              "    </tr>\n",
              "  </thead>\n",
              "  <tbody>\n",
              "    <tr>\n",
              "      <th>517</th>\n",
              "      <td>536409</td>\n",
              "      <td>21866</td>\n",
              "      <td>UNION JACK FLAG LUGGAGE TAG</td>\n",
              "      <td>1</td>\n",
              "      <td>12/1/2010 11:45</td>\n",
              "      <td>1.25</td>\n",
              "      <td>17908.0</td>\n",
              "      <td>United Kingdom</td>\n",
              "      <td>I am Extra</td>\n",
              "    </tr>\n",
              "    <tr>\n",
              "      <th>527</th>\n",
              "      <td>536409</td>\n",
              "      <td>22866</td>\n",
              "      <td>HAND WARMER SCOTTY DOG DESIGN</td>\n",
              "      <td>1</td>\n",
              "      <td>12/1/2010 11:45</td>\n",
              "      <td>2.10</td>\n",
              "      <td>17908.0</td>\n",
              "      <td>United Kingdom</td>\n",
              "      <td>I am Extra</td>\n",
              "    </tr>\n",
              "    <tr>\n",
              "      <th>537</th>\n",
              "      <td>536409</td>\n",
              "      <td>22900</td>\n",
              "      <td>SET 2 TEA TOWELS I LOVE LONDON</td>\n",
              "      <td>1</td>\n",
              "      <td>12/1/2010 11:45</td>\n",
              "      <td>2.95</td>\n",
              "      <td>17908.0</td>\n",
              "      <td>United Kingdom</td>\n",
              "      <td>I am Extra</td>\n",
              "    </tr>\n",
              "    <tr>\n",
              "      <th>539</th>\n",
              "      <td>536409</td>\n",
              "      <td>22111</td>\n",
              "      <td>SCOTTIE DOG HOT WATER BOTTLE</td>\n",
              "      <td>1</td>\n",
              "      <td>12/1/2010 11:45</td>\n",
              "      <td>4.95</td>\n",
              "      <td>17908.0</td>\n",
              "      <td>United Kingdom</td>\n",
              "      <td>I am Extra</td>\n",
              "    </tr>\n",
              "    <tr>\n",
              "      <th>555</th>\n",
              "      <td>536412</td>\n",
              "      <td>22327</td>\n",
              "      <td>ROUND SNACK BOXES SET OF 4 SKULLS</td>\n",
              "      <td>1</td>\n",
              "      <td>12/1/2010 11:49</td>\n",
              "      <td>2.95</td>\n",
              "      <td>17920.0</td>\n",
              "      <td>United Kingdom</td>\n",
              "      <td>I am Extra</td>\n",
              "    </tr>\n",
              "    <tr>\n",
              "      <th>...</th>\n",
              "      <td>...</td>\n",
              "      <td>...</td>\n",
              "      <td>...</td>\n",
              "      <td>...</td>\n",
              "      <td>...</td>\n",
              "      <td>...</td>\n",
              "      <td>...</td>\n",
              "      <td>...</td>\n",
              "      <td>...</td>\n",
              "    </tr>\n",
              "    <tr>\n",
              "      <th>541675</th>\n",
              "      <td>581538</td>\n",
              "      <td>22068</td>\n",
              "      <td>BLACK PIRATE TREASURE CHEST</td>\n",
              "      <td>1</td>\n",
              "      <td>12/9/2011 11:34</td>\n",
              "      <td>0.39</td>\n",
              "      <td>14446.0</td>\n",
              "      <td>United Kingdom</td>\n",
              "      <td>I am Extra</td>\n",
              "    </tr>\n",
              "    <tr>\n",
              "      <th>541689</th>\n",
              "      <td>581538</td>\n",
              "      <td>23318</td>\n",
              "      <td>BOX OF 6 MINI VINTAGE CRACKERS</td>\n",
              "      <td>1</td>\n",
              "      <td>12/9/2011 11:34</td>\n",
              "      <td>2.49</td>\n",
              "      <td>14446.0</td>\n",
              "      <td>United Kingdom</td>\n",
              "      <td>I am Extra</td>\n",
              "    </tr>\n",
              "    <tr>\n",
              "      <th>541692</th>\n",
              "      <td>581538</td>\n",
              "      <td>22992</td>\n",
              "      <td>REVOLVER WOODEN RULER</td>\n",
              "      <td>1</td>\n",
              "      <td>12/9/2011 11:34</td>\n",
              "      <td>1.95</td>\n",
              "      <td>14446.0</td>\n",
              "      <td>United Kingdom</td>\n",
              "      <td>I am Extra</td>\n",
              "    </tr>\n",
              "    <tr>\n",
              "      <th>541699</th>\n",
              "      <td>581538</td>\n",
              "      <td>22694</td>\n",
              "      <td>WICKER STAR</td>\n",
              "      <td>1</td>\n",
              "      <td>12/9/2011 11:34</td>\n",
              "      <td>2.10</td>\n",
              "      <td>14446.0</td>\n",
              "      <td>United Kingdom</td>\n",
              "      <td>I am Extra</td>\n",
              "    </tr>\n",
              "    <tr>\n",
              "      <th>541701</th>\n",
              "      <td>581538</td>\n",
              "      <td>23343</td>\n",
              "      <td>JUMBO BAG VINTAGE CHRISTMAS</td>\n",
              "      <td>1</td>\n",
              "      <td>12/9/2011 11:34</td>\n",
              "      <td>2.08</td>\n",
              "      <td>14446.0</td>\n",
              "      <td>United Kingdom</td>\n",
              "      <td>I am Extra</td>\n",
              "    </tr>\n",
              "  </tbody>\n",
              "</table>\n",
              "<p>5268 rows × 9 columns</p>\n",
              "</div>"
            ],
            "text/plain": [
              "       InvoiceNo StockCode  ...         Country  extraColumn\n",
              "517       536409     21866  ...  United Kingdom   I am Extra\n",
              "527       536409     22866  ...  United Kingdom   I am Extra\n",
              "537       536409     22900  ...  United Kingdom   I am Extra\n",
              "539       536409     22111  ...  United Kingdom   I am Extra\n",
              "555       536412     22327  ...  United Kingdom   I am Extra\n",
              "...          ...       ...  ...             ...          ...\n",
              "541675    581538     22068  ...  United Kingdom   I am Extra\n",
              "541689    581538     23318  ...  United Kingdom   I am Extra\n",
              "541692    581538     22992  ...  United Kingdom   I am Extra\n",
              "541699    581538     22694  ...  United Kingdom   I am Extra\n",
              "541701    581538     23343  ...  United Kingdom   I am Extra\n",
              "\n",
              "[5268 rows x 9 columns]"
            ]
          },
          "metadata": {
            "tags": []
          },
          "execution_count": 53
        }
      ]
    },
    {
      "cell_type": "code",
      "metadata": {
        "id": "5W1m6isiQFTr",
        "colab_type": "code",
        "colab": {
          "base_uri": "https://localhost:8080/",
          "height": 35
        },
        "outputId": "2a96925f-5ee3-4cf8-9110-713d8e2c5c14"
      },
      "source": [
        "data.shape"
      ],
      "execution_count": 50,
      "outputs": [
        {
          "output_type": "execute_result",
          "data": {
            "text/plain": [
              "(541909, 9)"
            ]
          },
          "metadata": {
            "tags": []
          },
          "execution_count": 50
        }
      ]
    },
    {
      "cell_type": "code",
      "metadata": {
        "id": "jPC2MVkxQJTc",
        "colab_type": "code",
        "colab": {
          "base_uri": "https://localhost:8080/",
          "height": 415
        },
        "outputId": "4717c0d4-772d-49f3-9f58-027772e43d1d"
      },
      "source": [
        "data.drop_duplicates()"
      ],
      "execution_count": 51,
      "outputs": [
        {
          "output_type": "execute_result",
          "data": {
            "text/html": [
              "<div>\n",
              "<style scoped>\n",
              "    .dataframe tbody tr th:only-of-type {\n",
              "        vertical-align: middle;\n",
              "    }\n",
              "\n",
              "    .dataframe tbody tr th {\n",
              "        vertical-align: top;\n",
              "    }\n",
              "\n",
              "    .dataframe thead th {\n",
              "        text-align: right;\n",
              "    }\n",
              "</style>\n",
              "<table border=\"1\" class=\"dataframe\">\n",
              "  <thead>\n",
              "    <tr style=\"text-align: right;\">\n",
              "      <th></th>\n",
              "      <th>InvoiceNo</th>\n",
              "      <th>StockCode</th>\n",
              "      <th>Description</th>\n",
              "      <th>Quantity</th>\n",
              "      <th>InvoiceDate</th>\n",
              "      <th>UnitPrice</th>\n",
              "      <th>CustomerID</th>\n",
              "      <th>Country</th>\n",
              "      <th>extraColumn</th>\n",
              "    </tr>\n",
              "  </thead>\n",
              "  <tbody>\n",
              "    <tr>\n",
              "      <th>0</th>\n",
              "      <td>536365</td>\n",
              "      <td>85123A</td>\n",
              "      <td>WHITE HANGING HEART T-LIGHT HOLDER</td>\n",
              "      <td>6</td>\n",
              "      <td>12/1/2010 8:26</td>\n",
              "      <td>2.55</td>\n",
              "      <td>17850.0</td>\n",
              "      <td>United Kingdom</td>\n",
              "      <td>I am Extra</td>\n",
              "    </tr>\n",
              "    <tr>\n",
              "      <th>1</th>\n",
              "      <td>536365</td>\n",
              "      <td>71053</td>\n",
              "      <td>WHITE METAL LANTERN</td>\n",
              "      <td>6</td>\n",
              "      <td>12/1/2010 8:26</td>\n",
              "      <td>3.39</td>\n",
              "      <td>17850.0</td>\n",
              "      <td>United Kingdom</td>\n",
              "      <td>I am Extra</td>\n",
              "    </tr>\n",
              "    <tr>\n",
              "      <th>2</th>\n",
              "      <td>536365</td>\n",
              "      <td>84406B</td>\n",
              "      <td>CREAM CUPID HEARTS COAT HANGER</td>\n",
              "      <td>8</td>\n",
              "      <td>12/1/2010 8:26</td>\n",
              "      <td>2.75</td>\n",
              "      <td>17850.0</td>\n",
              "      <td>United Kingdom</td>\n",
              "      <td>I am Extra</td>\n",
              "    </tr>\n",
              "    <tr>\n",
              "      <th>3</th>\n",
              "      <td>536365</td>\n",
              "      <td>84029G</td>\n",
              "      <td>KNITTED UNION FLAG HOT WATER BOTTLE</td>\n",
              "      <td>6</td>\n",
              "      <td>12/1/2010 8:26</td>\n",
              "      <td>3.39</td>\n",
              "      <td>17850.0</td>\n",
              "      <td>United Kingdom</td>\n",
              "      <td>I am Extra</td>\n",
              "    </tr>\n",
              "    <tr>\n",
              "      <th>4</th>\n",
              "      <td>536365</td>\n",
              "      <td>84029E</td>\n",
              "      <td>RED WOOLLY HOTTIE WHITE HEART.</td>\n",
              "      <td>6</td>\n",
              "      <td>12/1/2010 8:26</td>\n",
              "      <td>3.39</td>\n",
              "      <td>17850.0</td>\n",
              "      <td>United Kingdom</td>\n",
              "      <td>I am Extra</td>\n",
              "    </tr>\n",
              "    <tr>\n",
              "      <th>...</th>\n",
              "      <td>...</td>\n",
              "      <td>...</td>\n",
              "      <td>...</td>\n",
              "      <td>...</td>\n",
              "      <td>...</td>\n",
              "      <td>...</td>\n",
              "      <td>...</td>\n",
              "      <td>...</td>\n",
              "      <td>...</td>\n",
              "    </tr>\n",
              "    <tr>\n",
              "      <th>541904</th>\n",
              "      <td>581587</td>\n",
              "      <td>22613</td>\n",
              "      <td>PACK OF 20 SPACEBOY NAPKINS</td>\n",
              "      <td>12</td>\n",
              "      <td>12/9/2011 12:50</td>\n",
              "      <td>0.85</td>\n",
              "      <td>12680.0</td>\n",
              "      <td>France</td>\n",
              "      <td>I am Extra</td>\n",
              "    </tr>\n",
              "    <tr>\n",
              "      <th>541905</th>\n",
              "      <td>581587</td>\n",
              "      <td>22899</td>\n",
              "      <td>CHILDREN'S APRON DOLLY GIRL</td>\n",
              "      <td>6</td>\n",
              "      <td>12/9/2011 12:50</td>\n",
              "      <td>2.10</td>\n",
              "      <td>12680.0</td>\n",
              "      <td>France</td>\n",
              "      <td>I am Extra</td>\n",
              "    </tr>\n",
              "    <tr>\n",
              "      <th>541906</th>\n",
              "      <td>581587</td>\n",
              "      <td>23254</td>\n",
              "      <td>CHILDRENS CUTLERY DOLLY GIRL</td>\n",
              "      <td>4</td>\n",
              "      <td>12/9/2011 12:50</td>\n",
              "      <td>4.15</td>\n",
              "      <td>12680.0</td>\n",
              "      <td>France</td>\n",
              "      <td>I am Extra</td>\n",
              "    </tr>\n",
              "    <tr>\n",
              "      <th>541907</th>\n",
              "      <td>581587</td>\n",
              "      <td>23255</td>\n",
              "      <td>CHILDRENS CUTLERY CIRCUS PARADE</td>\n",
              "      <td>4</td>\n",
              "      <td>12/9/2011 12:50</td>\n",
              "      <td>4.15</td>\n",
              "      <td>12680.0</td>\n",
              "      <td>France</td>\n",
              "      <td>I am Extra</td>\n",
              "    </tr>\n",
              "    <tr>\n",
              "      <th>541908</th>\n",
              "      <td>581587</td>\n",
              "      <td>22138</td>\n",
              "      <td>BAKING SET 9 PIECE RETROSPOT</td>\n",
              "      <td>3</td>\n",
              "      <td>12/9/2011 12:50</td>\n",
              "      <td>4.95</td>\n",
              "      <td>12680.0</td>\n",
              "      <td>France</td>\n",
              "      <td>I am Extra</td>\n",
              "    </tr>\n",
              "  </tbody>\n",
              "</table>\n",
              "<p>536641 rows × 9 columns</p>\n",
              "</div>"
            ],
            "text/plain": [
              "       InvoiceNo StockCode  ...         Country  extraColumn\n",
              "0         536365    85123A  ...  United Kingdom   I am Extra\n",
              "1         536365     71053  ...  United Kingdom   I am Extra\n",
              "2         536365    84406B  ...  United Kingdom   I am Extra\n",
              "3         536365    84029G  ...  United Kingdom   I am Extra\n",
              "4         536365    84029E  ...  United Kingdom   I am Extra\n",
              "...          ...       ...  ...             ...          ...\n",
              "541904    581587     22613  ...          France   I am Extra\n",
              "541905    581587     22899  ...          France   I am Extra\n",
              "541906    581587     23254  ...          France   I am Extra\n",
              "541907    581587     23255  ...          France   I am Extra\n",
              "541908    581587     22138  ...          France   I am Extra\n",
              "\n",
              "[536641 rows x 9 columns]"
            ]
          },
          "metadata": {
            "tags": []
          },
          "execution_count": 51
        }
      ]
    },
    {
      "cell_type": "code",
      "metadata": {
        "id": "D8aNcO9mQLpb",
        "colab_type": "code",
        "colab": {
          "base_uri": "https://localhost:8080/",
          "height": 35
        },
        "outputId": "926151ee-222d-4b46-a348-8227deae193a"
      },
      "source": [
        "data.shape"
      ],
      "execution_count": 52,
      "outputs": [
        {
          "output_type": "execute_result",
          "data": {
            "text/plain": [
              "(541909, 9)"
            ]
          },
          "metadata": {
            "tags": []
          },
          "execution_count": 52
        }
      ]
    },
    {
      "cell_type": "code",
      "metadata": {
        "id": "35WfHe75QOPx",
        "colab_type": "code",
        "colab": {
          "base_uri": "https://localhost:8080/",
          "height": 191
        },
        "outputId": "9ff004c6-56f4-4ce1-c400-8e92b41115d5"
      },
      "source": [
        "data.loc[data.duplicated(keep='first'), :].count()"
      ],
      "execution_count": 55,
      "outputs": [
        {
          "output_type": "execute_result",
          "data": {
            "text/plain": [
              "InvoiceNo      5268\n",
              "StockCode      5268\n",
              "Description    5268\n",
              "Quantity       5268\n",
              "InvoiceDate    5268\n",
              "UnitPrice      5268\n",
              "CustomerID     5225\n",
              "Country        5268\n",
              "extraColumn    5268\n",
              "dtype: int64"
            ]
          },
          "metadata": {
            "tags": []
          },
          "execution_count": 55
        }
      ]
    },
    {
      "cell_type": "code",
      "metadata": {
        "id": "qMJWv0lkQvpg",
        "colab_type": "code",
        "colab": {}
      },
      "source": [
        ""
      ],
      "execution_count": 0,
      "outputs": []
    }
  ]
}
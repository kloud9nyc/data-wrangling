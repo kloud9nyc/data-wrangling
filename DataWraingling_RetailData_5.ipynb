{
  "nbformat": 4,
  "nbformat_minor": 0,
  "metadata": {
    "colab": {
      "name": "DataWraingling_RetailData_5.ipynb",
      "provenance": [],
      "authorship_tag": "ABX9TyMkGB/BGcNavuPIB2XuWeJC",
      "include_colab_link": true
    },
    "kernelspec": {
      "name": "python3",
      "display_name": "Python 3"
    }
  },
  "cells": [
    {
      "cell_type": "markdown",
      "metadata": {
        "id": "view-in-github",
        "colab_type": "text"
      },
      "source": [
        "<a href=\"https://colab.research.google.com/github/kloud9nyc/data-wrangling/blob/master/DataWraingling_RetailData_5.ipynb\" target=\"_parent\"><img src=\"https://colab.research.google.com/assets/colab-badge.svg\" alt=\"Open In Colab\"/></a>"
      ]
    },
    {
      "cell_type": "code",
      "metadata": {
        "id": "-4TFrccg17oq",
        "colab_type": "code",
        "colab": {
          "base_uri": "https://localhost:8080/",
          "height": 124
        },
        "outputId": "81025fb0-fee7-4044-94bd-769a2a18453e"
      },
      "source": [
        "from google.colab import drive\n",
        "drive.mount('/content/drive')"
      ],
      "execution_count": 1,
      "outputs": [
        {
          "output_type": "stream",
          "text": [
            "Go to this URL in a browser: https://accounts.google.com/o/oauth2/auth?client_id=947318989803-6bn6qk8qdgf4n4g3pfee6491hc0brc4i.apps.googleusercontent.com&redirect_uri=urn%3aietf%3awg%3aoauth%3a2.0%3aoob&response_type=code&scope=email%20https%3a%2f%2fwww.googleapis.com%2fauth%2fdocs.test%20https%3a%2f%2fwww.googleapis.com%2fauth%2fdrive%20https%3a%2f%2fwww.googleapis.com%2fauth%2fdrive.photos.readonly%20https%3a%2f%2fwww.googleapis.com%2fauth%2fpeopleapi.readonly\n",
            "\n",
            "Enter your authorization code:\n",
            "··········\n",
            "Mounted at /content/drive\n"
          ],
          "name": "stdout"
        }
      ]
    },
    {
      "cell_type": "code",
      "metadata": {
        "id": "VVr22kTc2AZy",
        "colab_type": "code",
        "colab": {}
      },
      "source": [
        "import pandas as pd"
      ],
      "execution_count": 0,
      "outputs": []
    },
    {
      "cell_type": "code",
      "metadata": {
        "id": "Bx_YGOt82B4_",
        "colab_type": "code",
        "colab": {}
      },
      "source": [
        "data = pd.read_csv(\"/content/drive/My Drive/DataWrangling/onlineretail/OnlineRetail.csv\",encoding = \"ISO-8859-1\")"
      ],
      "execution_count": 0,
      "outputs": []
    },
    {
      "cell_type": "code",
      "metadata": {
        "id": "c7o1r4Hd2fvw",
        "colab_type": "code",
        "colab": {
          "base_uri": "https://localhost:8080/",
          "height": 173
        },
        "outputId": "3de5599d-ca83-425e-f47b-eb72661bea28"
      },
      "source": [
        "data.Quantity.describe()"
      ],
      "execution_count": 6,
      "outputs": [
        {
          "output_type": "execute_result",
          "data": {
            "text/plain": [
              "count    541909.000000\n",
              "mean          9.552250\n",
              "std         218.081158\n",
              "min      -80995.000000\n",
              "25%           1.000000\n",
              "50%           3.000000\n",
              "75%          10.000000\n",
              "max       80995.000000\n",
              "Name: Quantity, dtype: float64"
            ]
          },
          "metadata": {
            "tags": []
          },
          "execution_count": 6
        }
      ]
    },
    {
      "cell_type": "code",
      "metadata": {
        "id": "o8Gq49Jz2sSO",
        "colab_type": "code",
        "colab": {
          "base_uri": "https://localhost:8080/",
          "height": 35
        },
        "outputId": "525ebd56-3a9f-456f-a79b-f28e26381a55"
      },
      "source": [
        "data.UnitPrice.min()"
      ],
      "execution_count": 8,
      "outputs": [
        {
          "output_type": "execute_result",
          "data": {
            "text/plain": [
              "-11062.06"
            ]
          },
          "metadata": {
            "tags": []
          },
          "execution_count": 8
        }
      ]
    },
    {
      "cell_type": "code",
      "metadata": {
        "id": "2LrSy193224e",
        "colab_type": "code",
        "colab": {
          "base_uri": "https://localhost:8080/",
          "height": 35
        },
        "outputId": "76871d0a-962b-4a07-c5f1-37e0b3c6d1d7"
      },
      "source": [
        "data.UnitPrice.max()"
      ],
      "execution_count": 9,
      "outputs": [
        {
          "output_type": "execute_result",
          "data": {
            "text/plain": [
              "38970.0"
            ]
          },
          "metadata": {
            "tags": []
          },
          "execution_count": 9
        }
      ]
    },
    {
      "cell_type": "code",
      "metadata": {
        "id": "m9aZO3C0297t",
        "colab_type": "code",
        "colab": {
          "base_uri": "https://localhost:8080/",
          "height": 35
        },
        "outputId": "059007da-3d8d-4cc1-c358-e94990d1e1b7"
      },
      "source": [
        "data.UnitPrice.sum()"
      ],
      "execution_count": 10,
      "outputs": [
        {
          "output_type": "execute_result",
          "data": {
            "text/plain": [
              "2498803.974"
            ]
          },
          "metadata": {
            "tags": []
          },
          "execution_count": 10
        }
      ]
    },
    {
      "cell_type": "code",
      "metadata": {
        "id": "3fdZUZdh3Os9",
        "colab_type": "code",
        "colab": {
          "base_uri": "https://localhost:8080/",
          "height": 225
        },
        "outputId": "7624e84a-4724-4791-c0df-ba9cdf422114"
      },
      "source": [
        "data.UnitPrice.cumsum()"
      ],
      "execution_count": 11,
      "outputs": [
        {
          "output_type": "execute_result",
          "data": {
            "text/plain": [
              "0         2.550000e+00\n",
              "1         5.940000e+00\n",
              "2         8.690000e+00\n",
              "3         1.208000e+01\n",
              "4         1.547000e+01\n",
              "              ...     \n",
              "541904    2.498789e+06\n",
              "541905    2.498791e+06\n",
              "541906    2.498795e+06\n",
              "541907    2.498799e+06\n",
              "541908    2.498804e+06\n",
              "Name: UnitPrice, Length: 541909, dtype: float64"
            ]
          },
          "metadata": {
            "tags": []
          },
          "execution_count": 11
        }
      ]
    },
    {
      "cell_type": "code",
      "metadata": {
        "id": "JvPLcfjR3SON",
        "colab_type": "code",
        "colab": {
          "base_uri": "https://localhost:8080/",
          "height": 35
        },
        "outputId": "3745f30c-ccdf-4ab4-b3a7-1f520b59f993"
      },
      "source": [
        "data.UnitPrice.count()"
      ],
      "execution_count": 12,
      "outputs": [
        {
          "output_type": "execute_result",
          "data": {
            "text/plain": [
              "541909"
            ]
          },
          "metadata": {
            "tags": []
          },
          "execution_count": 12
        }
      ]
    },
    {
      "cell_type": "code",
      "metadata": {
        "id": "q8JDjH3v3ddd",
        "colab_type": "code",
        "colab": {
          "base_uri": "https://localhost:8080/",
          "height": 35
        },
        "outputId": "e7188ce0-9755-4414-f819-f749f23b2bd9"
      },
      "source": [
        "data.UnitPrice.nunique()"
      ],
      "execution_count": 13,
      "outputs": [
        {
          "output_type": "execute_result",
          "data": {
            "text/plain": [
              "1630"
            ]
          },
          "metadata": {
            "tags": []
          },
          "execution_count": 13
        }
      ]
    },
    {
      "cell_type": "code",
      "metadata": {
        "id": "fGBvPRXq3iCD",
        "colab_type": "code",
        "colab": {
          "base_uri": "https://localhost:8080/",
          "height": 225
        },
        "outputId": "49ae2b43-2916-4e21-e737-bca4adba1684"
      },
      "source": [
        "data.UnitPrice.isnull()"
      ],
      "execution_count": 14,
      "outputs": [
        {
          "output_type": "execute_result",
          "data": {
            "text/plain": [
              "0         False\n",
              "1         False\n",
              "2         False\n",
              "3         False\n",
              "4         False\n",
              "          ...  \n",
              "541904    False\n",
              "541905    False\n",
              "541906    False\n",
              "541907    False\n",
              "541908    False\n",
              "Name: UnitPrice, Length: 541909, dtype: bool"
            ]
          },
          "metadata": {
            "tags": []
          },
          "execution_count": 14
        }
      ]
    },
    {
      "cell_type": "code",
      "metadata": {
        "id": "l13sYa0r3mzN",
        "colab_type": "code",
        "colab": {
          "base_uri": "https://localhost:8080/",
          "height": 121
        },
        "outputId": "732f0830-96ed-4ad9-c840-a29be2eb5853"
      },
      "source": [
        "data.UnitPrice.nsmallest()"
      ],
      "execution_count": 15,
      "outputs": [
        {
          "output_type": "execute_result",
          "data": {
            "text/plain": [
              "299983   -11062.06\n",
              "299984   -11062.06\n",
              "622           0.00\n",
              "1970          0.00\n",
              "1971          0.00\n",
              "Name: UnitPrice, dtype: float64"
            ]
          },
          "metadata": {
            "tags": []
          },
          "execution_count": 15
        }
      ]
    },
    {
      "cell_type": "code",
      "metadata": {
        "id": "NJS1D07s3vdM",
        "colab_type": "code",
        "colab": {
          "base_uri": "https://localhost:8080/",
          "height": 121
        },
        "outputId": "73c2f53d-a39b-4362-eea9-64fe9079b34a"
      },
      "source": [
        "data.UnitPrice.nlargest()"
      ],
      "execution_count": 16,
      "outputs": [
        {
          "output_type": "execute_result",
          "data": {
            "text/plain": [
              "222681    38970.00\n",
              "524602    17836.46\n",
              "43702     16888.02\n",
              "43703     16453.71\n",
              "15016     13541.33\n",
              "Name: UnitPrice, dtype: float64"
            ]
          },
          "metadata": {
            "tags": []
          },
          "execution_count": 16
        }
      ]
    },
    {
      "cell_type": "code",
      "metadata": {
        "id": "lwqgU8QX3zos",
        "colab_type": "code",
        "colab": {}
      },
      "source": [
        "dataAsc= data.UnitPrice.sort_index(ascending=False)"
      ],
      "execution_count": 0,
      "outputs": []
    },
    {
      "cell_type": "code",
      "metadata": {
        "id": "UsM_A7--6Mk4",
        "colab_type": "code",
        "colab": {
          "base_uri": "https://localhost:8080/",
          "height": 35
        },
        "outputId": "c48aa8bc-7ba9-4c9c-ecda-65ffabac2299"
      },
      "source": [
        "type(dataAsc)"
      ],
      "execution_count": 24,
      "outputs": [
        {
          "output_type": "execute_result",
          "data": {
            "text/plain": [
              "pandas.core.series.Series"
            ]
          },
          "metadata": {
            "tags": []
          },
          "execution_count": 24
        }
      ]
    },
    {
      "cell_type": "code",
      "metadata": {
        "id": "FK010BdV6UcZ",
        "colab_type": "code",
        "colab": {
          "base_uri": "https://localhost:8080/",
          "height": 415
        },
        "outputId": "c5c05333-7c62-4d5a-a7c5-490598760e4b"
      },
      "source": [
        "data[data['UnitPrice']==4.95].iloc[:,:-1].sort_values('Quantity').sort_values('Description')"
      ],
      "execution_count": 40,
      "outputs": [
        {
          "output_type": "execute_result",
          "data": {
            "text/html": [
              "<div>\n",
              "<style scoped>\n",
              "    .dataframe tbody tr th:only-of-type {\n",
              "        vertical-align: middle;\n",
              "    }\n",
              "\n",
              "    .dataframe tbody tr th {\n",
              "        vertical-align: top;\n",
              "    }\n",
              "\n",
              "    .dataframe thead th {\n",
              "        text-align: right;\n",
              "    }\n",
              "</style>\n",
              "<table border=\"1\" class=\"dataframe\">\n",
              "  <thead>\n",
              "    <tr style=\"text-align: right;\">\n",
              "      <th></th>\n",
              "      <th>InvoiceNo</th>\n",
              "      <th>StockCode</th>\n",
              "      <th>Description</th>\n",
              "      <th>Quantity</th>\n",
              "      <th>InvoiceDate</th>\n",
              "      <th>UnitPrice</th>\n",
              "      <th>CustomerID</th>\n",
              "    </tr>\n",
              "  </thead>\n",
              "  <tbody>\n",
              "    <tr>\n",
              "      <th>490476</th>\n",
              "      <td>578057</td>\n",
              "      <td>23411</td>\n",
              "      <td>TRELLIS COAT RACK</td>\n",
              "      <td>2</td>\n",
              "      <td>11/22/2011 15:05</td>\n",
              "      <td>4.95</td>\n",
              "      <td>12920.0</td>\n",
              "    </tr>\n",
              "    <tr>\n",
              "      <th>348127</th>\n",
              "      <td>567378</td>\n",
              "      <td>23411</td>\n",
              "      <td>TRELLIS COAT RACK</td>\n",
              "      <td>6</td>\n",
              "      <td>9/20/2011 10:01</td>\n",
              "      <td>4.95</td>\n",
              "      <td>14911.0</td>\n",
              "    </tr>\n",
              "    <tr>\n",
              "      <th>347651</th>\n",
              "      <td>567327</td>\n",
              "      <td>23411</td>\n",
              "      <td>TRELLIS COAT RACK</td>\n",
              "      <td>6</td>\n",
              "      <td>9/19/2011 14:43</td>\n",
              "      <td>4.95</td>\n",
              "      <td>13102.0</td>\n",
              "    </tr>\n",
              "    <tr>\n",
              "      <th>350268</th>\n",
              "      <td>567622</td>\n",
              "      <td>23411</td>\n",
              "      <td>TRELLIS COAT RACK</td>\n",
              "      <td>1</td>\n",
              "      <td>9/21/2011 12:46</td>\n",
              "      <td>4.95</td>\n",
              "      <td>14527.0</td>\n",
              "    </tr>\n",
              "    <tr>\n",
              "      <th>428675</th>\n",
              "      <td>573496</td>\n",
              "      <td>23411</td>\n",
              "      <td>TRELLIS COAT RACK</td>\n",
              "      <td>1</td>\n",
              "      <td>10/31/2011 11:59</td>\n",
              "      <td>4.95</td>\n",
              "      <td>17841.0</td>\n",
              "    </tr>\n",
              "    <tr>\n",
              "      <th>...</th>\n",
              "      <td>...</td>\n",
              "      <td>...</td>\n",
              "      <td>...</td>\n",
              "      <td>...</td>\n",
              "      <td>...</td>\n",
              "      <td>...</td>\n",
              "      <td>...</td>\n",
              "    </tr>\n",
              "    <tr>\n",
              "      <th>84120</th>\n",
              "      <td>543370</td>\n",
              "      <td>22912</td>\n",
              "      <td>YELLOW COAT RACK PARIS FASHION</td>\n",
              "      <td>3</td>\n",
              "      <td>2/7/2011 14:51</td>\n",
              "      <td>4.95</td>\n",
              "      <td>12359.0</td>\n",
              "    </tr>\n",
              "    <tr>\n",
              "      <th>484144</th>\n",
              "      <td>577522</td>\n",
              "      <td>22912</td>\n",
              "      <td>YELLOW COAT RACK PARIS FASHION</td>\n",
              "      <td>1</td>\n",
              "      <td>11/20/2011 13:23</td>\n",
              "      <td>4.95</td>\n",
              "      <td>15988.0</td>\n",
              "    </tr>\n",
              "    <tr>\n",
              "      <th>73398</th>\n",
              "      <td>542345</td>\n",
              "      <td>22912</td>\n",
              "      <td>YELLOW COAT RACK PARIS FASHION</td>\n",
              "      <td>1</td>\n",
              "      <td>1/27/2011 11:55</td>\n",
              "      <td>4.95</td>\n",
              "      <td>15910.0</td>\n",
              "    </tr>\n",
              "    <tr>\n",
              "      <th>507141</th>\n",
              "      <td>579167</td>\n",
              "      <td>22912</td>\n",
              "      <td>YELLOW COAT RACK PARIS FASHION</td>\n",
              "      <td>2</td>\n",
              "      <td>11/28/2011 14:06</td>\n",
              "      <td>4.95</td>\n",
              "      <td>16800.0</td>\n",
              "    </tr>\n",
              "    <tr>\n",
              "      <th>193954</th>\n",
              "      <td>553546</td>\n",
              "      <td>22928</td>\n",
              "      <td>YELLOW GIANT GARDEN THERMOMETER</td>\n",
              "      <td>36</td>\n",
              "      <td>5/17/2011 15:42</td>\n",
              "      <td>4.95</td>\n",
              "      <td>12415.0</td>\n",
              "    </tr>\n",
              "  </tbody>\n",
              "</table>\n",
              "<p>19040 rows × 7 columns</p>\n",
              "</div>"
            ],
            "text/plain": [
              "       InvoiceNo StockCode  ... UnitPrice  CustomerID\n",
              "490476    578057     23411  ...      4.95     12920.0\n",
              "348127    567378     23411  ...      4.95     14911.0\n",
              "347651    567327     23411  ...      4.95     13102.0\n",
              "350268    567622     23411  ...      4.95     14527.0\n",
              "428675    573496     23411  ...      4.95     17841.0\n",
              "...          ...       ...  ...       ...         ...\n",
              "84120     543370     22912  ...      4.95     12359.0\n",
              "484144    577522     22912  ...      4.95     15988.0\n",
              "73398     542345     22912  ...      4.95     15910.0\n",
              "507141    579167     22912  ...      4.95     16800.0\n",
              "193954    553546     22928  ...      4.95     12415.0\n",
              "\n",
              "[19040 rows x 7 columns]"
            ]
          },
          "metadata": {
            "tags": []
          },
          "execution_count": 40
        }
      ]
    },
    {
      "cell_type": "code",
      "metadata": {
        "id": "awCFgfP-6xCK",
        "colab_type": "code",
        "colab": {}
      },
      "source": [
        "NullValues = pd.isnull(data[\"Description\"])  "
      ],
      "execution_count": 0,
      "outputs": []
    },
    {
      "cell_type": "code",
      "metadata": {
        "id": "22FzacrH-nLL",
        "colab_type": "code",
        "colab": {
          "base_uri": "https://localhost:8080/",
          "height": 415
        },
        "outputId": "b5c38676-105f-45cf-a09f-d0acc7f24c65"
      },
      "source": [
        "data[NullValues]"
      ],
      "execution_count": 66,
      "outputs": [
        {
          "output_type": "execute_result",
          "data": {
            "text/html": [
              "<div>\n",
              "<style scoped>\n",
              "    .dataframe tbody tr th:only-of-type {\n",
              "        vertical-align: middle;\n",
              "    }\n",
              "\n",
              "    .dataframe tbody tr th {\n",
              "        vertical-align: top;\n",
              "    }\n",
              "\n",
              "    .dataframe thead th {\n",
              "        text-align: right;\n",
              "    }\n",
              "</style>\n",
              "<table border=\"1\" class=\"dataframe\">\n",
              "  <thead>\n",
              "    <tr style=\"text-align: right;\">\n",
              "      <th></th>\n",
              "      <th>InvoiceNo</th>\n",
              "      <th>StockCode</th>\n",
              "      <th>Description</th>\n",
              "      <th>Quantity</th>\n",
              "      <th>InvoiceDate</th>\n",
              "      <th>UnitPrice</th>\n",
              "      <th>CustomerID</th>\n",
              "      <th>Country</th>\n",
              "    </tr>\n",
              "  </thead>\n",
              "  <tbody>\n",
              "    <tr>\n",
              "      <th>622</th>\n",
              "      <td>536414</td>\n",
              "      <td>22139</td>\n",
              "      <td>NaN</td>\n",
              "      <td>56</td>\n",
              "      <td>12/1/2010 11:52</td>\n",
              "      <td>0.0</td>\n",
              "      <td>NaN</td>\n",
              "      <td>United Kingdom</td>\n",
              "    </tr>\n",
              "    <tr>\n",
              "      <th>1970</th>\n",
              "      <td>536545</td>\n",
              "      <td>21134</td>\n",
              "      <td>NaN</td>\n",
              "      <td>1</td>\n",
              "      <td>12/1/2010 14:32</td>\n",
              "      <td>0.0</td>\n",
              "      <td>NaN</td>\n",
              "      <td>United Kingdom</td>\n",
              "    </tr>\n",
              "    <tr>\n",
              "      <th>1971</th>\n",
              "      <td>536546</td>\n",
              "      <td>22145</td>\n",
              "      <td>NaN</td>\n",
              "      <td>1</td>\n",
              "      <td>12/1/2010 14:33</td>\n",
              "      <td>0.0</td>\n",
              "      <td>NaN</td>\n",
              "      <td>United Kingdom</td>\n",
              "    </tr>\n",
              "    <tr>\n",
              "      <th>1972</th>\n",
              "      <td>536547</td>\n",
              "      <td>37509</td>\n",
              "      <td>NaN</td>\n",
              "      <td>1</td>\n",
              "      <td>12/1/2010 14:33</td>\n",
              "      <td>0.0</td>\n",
              "      <td>NaN</td>\n",
              "      <td>United Kingdom</td>\n",
              "    </tr>\n",
              "    <tr>\n",
              "      <th>1987</th>\n",
              "      <td>536549</td>\n",
              "      <td>85226A</td>\n",
              "      <td>NaN</td>\n",
              "      <td>1</td>\n",
              "      <td>12/1/2010 14:34</td>\n",
              "      <td>0.0</td>\n",
              "      <td>NaN</td>\n",
              "      <td>United Kingdom</td>\n",
              "    </tr>\n",
              "    <tr>\n",
              "      <th>...</th>\n",
              "      <td>...</td>\n",
              "      <td>...</td>\n",
              "      <td>...</td>\n",
              "      <td>...</td>\n",
              "      <td>...</td>\n",
              "      <td>...</td>\n",
              "      <td>...</td>\n",
              "      <td>...</td>\n",
              "    </tr>\n",
              "    <tr>\n",
              "      <th>535322</th>\n",
              "      <td>581199</td>\n",
              "      <td>84581</td>\n",
              "      <td>NaN</td>\n",
              "      <td>-2</td>\n",
              "      <td>12/7/2011 18:26</td>\n",
              "      <td>0.0</td>\n",
              "      <td>NaN</td>\n",
              "      <td>United Kingdom</td>\n",
              "    </tr>\n",
              "    <tr>\n",
              "      <th>535326</th>\n",
              "      <td>581203</td>\n",
              "      <td>23406</td>\n",
              "      <td>NaN</td>\n",
              "      <td>15</td>\n",
              "      <td>12/7/2011 18:31</td>\n",
              "      <td>0.0</td>\n",
              "      <td>NaN</td>\n",
              "      <td>United Kingdom</td>\n",
              "    </tr>\n",
              "    <tr>\n",
              "      <th>535332</th>\n",
              "      <td>581209</td>\n",
              "      <td>21620</td>\n",
              "      <td>NaN</td>\n",
              "      <td>6</td>\n",
              "      <td>12/7/2011 18:35</td>\n",
              "      <td>0.0</td>\n",
              "      <td>NaN</td>\n",
              "      <td>United Kingdom</td>\n",
              "    </tr>\n",
              "    <tr>\n",
              "      <th>536981</th>\n",
              "      <td>581234</td>\n",
              "      <td>72817</td>\n",
              "      <td>NaN</td>\n",
              "      <td>27</td>\n",
              "      <td>12/8/2011 10:33</td>\n",
              "      <td>0.0</td>\n",
              "      <td>NaN</td>\n",
              "      <td>United Kingdom</td>\n",
              "    </tr>\n",
              "    <tr>\n",
              "      <th>538554</th>\n",
              "      <td>581408</td>\n",
              "      <td>85175</td>\n",
              "      <td>NaN</td>\n",
              "      <td>20</td>\n",
              "      <td>12/8/2011 14:06</td>\n",
              "      <td>0.0</td>\n",
              "      <td>NaN</td>\n",
              "      <td>United Kingdom</td>\n",
              "    </tr>\n",
              "  </tbody>\n",
              "</table>\n",
              "<p>1454 rows × 8 columns</p>\n",
              "</div>"
            ],
            "text/plain": [
              "       InvoiceNo StockCode Description  ...  UnitPrice CustomerID         Country\n",
              "622       536414     22139         NaN  ...        0.0        NaN  United Kingdom\n",
              "1970      536545     21134         NaN  ...        0.0        NaN  United Kingdom\n",
              "1971      536546     22145         NaN  ...        0.0        NaN  United Kingdom\n",
              "1972      536547     37509         NaN  ...        0.0        NaN  United Kingdom\n",
              "1987      536549    85226A         NaN  ...        0.0        NaN  United Kingdom\n",
              "...          ...       ...         ...  ...        ...        ...             ...\n",
              "535322    581199     84581         NaN  ...        0.0        NaN  United Kingdom\n",
              "535326    581203     23406         NaN  ...        0.0        NaN  United Kingdom\n",
              "535332    581209     21620         NaN  ...        0.0        NaN  United Kingdom\n",
              "536981    581234     72817         NaN  ...        0.0        NaN  United Kingdom\n",
              "538554    581408     85175         NaN  ...        0.0        NaN  United Kingdom\n",
              "\n",
              "[1454 rows x 8 columns]"
            ]
          },
          "metadata": {
            "tags": []
          },
          "execution_count": 66
        }
      ]
    },
    {
      "cell_type": "code",
      "metadata": {
        "id": "OJvFQjnQAjKm",
        "colab_type": "code",
        "colab": {
          "base_uri": "https://localhost:8080/",
          "height": 173
        },
        "outputId": "f3963bd1-8ede-414a-f6fc-91eb461cc3b9"
      },
      "source": [
        "data.loc[622]"
      ],
      "execution_count": 68,
      "outputs": [
        {
          "output_type": "execute_result",
          "data": {
            "text/plain": [
              "InvoiceNo               536414\n",
              "StockCode                22139\n",
              "Description                NaN\n",
              "Quantity                    56\n",
              "InvoiceDate    12/1/2010 11:52\n",
              "UnitPrice                    0\n",
              "CustomerID                 NaN\n",
              "Country         United Kingdom\n",
              "Name: 622, dtype: object"
            ]
          },
          "metadata": {
            "tags": []
          },
          "execution_count": 68
        }
      ]
    },
    {
      "cell_type": "code",
      "metadata": {
        "id": "FCiO6SnRACNC",
        "colab_type": "code",
        "colab": {
          "base_uri": "https://localhost:8080/",
          "height": 415
        },
        "outputId": "70fe1678-5377-457d-d814-47550de56fde"
      },
      "source": [
        "data[data['Description'].notnull() & (data['StockCode'] == '85175')]"
      ],
      "execution_count": 78,
      "outputs": [
        {
          "output_type": "execute_result",
          "data": {
            "text/html": [
              "<div>\n",
              "<style scoped>\n",
              "    .dataframe tbody tr th:only-of-type {\n",
              "        vertical-align: middle;\n",
              "    }\n",
              "\n",
              "    .dataframe tbody tr th {\n",
              "        vertical-align: top;\n",
              "    }\n",
              "\n",
              "    .dataframe thead th {\n",
              "        text-align: right;\n",
              "    }\n",
              "</style>\n",
              "<table border=\"1\" class=\"dataframe\">\n",
              "  <thead>\n",
              "    <tr style=\"text-align: right;\">\n",
              "      <th></th>\n",
              "      <th>InvoiceNo</th>\n",
              "      <th>StockCode</th>\n",
              "      <th>Description</th>\n",
              "      <th>Quantity</th>\n",
              "      <th>InvoiceDate</th>\n",
              "      <th>UnitPrice</th>\n",
              "      <th>CustomerID</th>\n",
              "      <th>Country</th>\n",
              "    </tr>\n",
              "  </thead>\n",
              "  <tbody>\n",
              "    <tr>\n",
              "      <th>3278</th>\n",
              "      <td>536617</td>\n",
              "      <td>85175</td>\n",
              "      <td>CACTI T-LIGHT CANDLES</td>\n",
              "      <td>96</td>\n",
              "      <td>12/2/2010 10:17</td>\n",
              "      <td>0.42</td>\n",
              "      <td>13941.0</td>\n",
              "      <td>United Kingdom</td>\n",
              "    </tr>\n",
              "    <tr>\n",
              "      <th>4881</th>\n",
              "      <td>C536815</td>\n",
              "      <td>85175</td>\n",
              "      <td>CACTI T-LIGHT CANDLES</td>\n",
              "      <td>-1</td>\n",
              "      <td>12/2/2010 17:05</td>\n",
              "      <td>0.42</td>\n",
              "      <td>14443.0</td>\n",
              "      <td>United Kingdom</td>\n",
              "    </tr>\n",
              "    <tr>\n",
              "      <th>7239</th>\n",
              "      <td>537023</td>\n",
              "      <td>85175</td>\n",
              "      <td>CACTI T-LIGHT CANDLES</td>\n",
              "      <td>32</td>\n",
              "      <td>12/3/2010 16:02</td>\n",
              "      <td>0.42</td>\n",
              "      <td>16725.0</td>\n",
              "      <td>United Kingdom</td>\n",
              "    </tr>\n",
              "    <tr>\n",
              "      <th>7439</th>\n",
              "      <td>C537039</td>\n",
              "      <td>85175</td>\n",
              "      <td>CACTI T-LIGHT CANDLES</td>\n",
              "      <td>-1</td>\n",
              "      <td>12/5/2010 10:25</td>\n",
              "      <td>0.42</td>\n",
              "      <td>15708.0</td>\n",
              "      <td>United Kingdom</td>\n",
              "    </tr>\n",
              "    <tr>\n",
              "      <th>7729</th>\n",
              "      <td>537051</td>\n",
              "      <td>85175</td>\n",
              "      <td>CACTI T-LIGHT CANDLES</td>\n",
              "      <td>32</td>\n",
              "      <td>12/5/2010 11:12</td>\n",
              "      <td>0.42</td>\n",
              "      <td>15708.0</td>\n",
              "      <td>United Kingdom</td>\n",
              "    </tr>\n",
              "    <tr>\n",
              "      <th>...</th>\n",
              "      <td>...</td>\n",
              "      <td>...</td>\n",
              "      <td>...</td>\n",
              "      <td>...</td>\n",
              "      <td>...</td>\n",
              "      <td>...</td>\n",
              "      <td>...</td>\n",
              "      <td>...</td>\n",
              "    </tr>\n",
              "    <tr>\n",
              "      <th>502057</th>\n",
              "      <td>578833</td>\n",
              "      <td>85175</td>\n",
              "      <td>CACTI T-LIGHT CANDLES</td>\n",
              "      <td>16</td>\n",
              "      <td>11/25/2011 15:23</td>\n",
              "      <td>0.83</td>\n",
              "      <td>NaN</td>\n",
              "      <td>United Kingdom</td>\n",
              "    </tr>\n",
              "    <tr>\n",
              "      <th>504398</th>\n",
              "      <td>578949</td>\n",
              "      <td>85175</td>\n",
              "      <td>CACTI T-LIGHT CANDLES</td>\n",
              "      <td>16</td>\n",
              "      <td>11/27/2011 14:30</td>\n",
              "      <td>0.42</td>\n",
              "      <td>14954.0</td>\n",
              "      <td>United Kingdom</td>\n",
              "    </tr>\n",
              "    <tr>\n",
              "      <th>505056</th>\n",
              "      <td>578999</td>\n",
              "      <td>85175</td>\n",
              "      <td>CACTI T-LIGHT CANDLES</td>\n",
              "      <td>16</td>\n",
              "      <td>11/27/2011 16:08</td>\n",
              "      <td>0.42</td>\n",
              "      <td>17595.0</td>\n",
              "      <td>United Kingdom</td>\n",
              "    </tr>\n",
              "    <tr>\n",
              "      <th>505778</th>\n",
              "      <td>579098</td>\n",
              "      <td>85175</td>\n",
              "      <td>CACTI T-LIGHT CANDLES</td>\n",
              "      <td>16</td>\n",
              "      <td>11/28/2011 11:18</td>\n",
              "      <td>0.42</td>\n",
              "      <td>14606.0</td>\n",
              "      <td>United Kingdom</td>\n",
              "    </tr>\n",
              "    <tr>\n",
              "      <th>520136</th>\n",
              "      <td>C580263</td>\n",
              "      <td>85175</td>\n",
              "      <td>CACTI T-LIGHT CANDLES</td>\n",
              "      <td>-16</td>\n",
              "      <td>12/2/2011 12:43</td>\n",
              "      <td>0.42</td>\n",
              "      <td>12536.0</td>\n",
              "      <td>France</td>\n",
              "    </tr>\n",
              "  </tbody>\n",
              "</table>\n",
              "<p>153 rows × 8 columns</p>\n",
              "</div>"
            ],
            "text/plain": [
              "       InvoiceNo StockCode  ... CustomerID         Country\n",
              "3278      536617     85175  ...    13941.0  United Kingdom\n",
              "4881     C536815     85175  ...    14443.0  United Kingdom\n",
              "7239      537023     85175  ...    16725.0  United Kingdom\n",
              "7439     C537039     85175  ...    15708.0  United Kingdom\n",
              "7729      537051     85175  ...    15708.0  United Kingdom\n",
              "...          ...       ...  ...        ...             ...\n",
              "502057    578833     85175  ...        NaN  United Kingdom\n",
              "504398    578949     85175  ...    14954.0  United Kingdom\n",
              "505056    578999     85175  ...    17595.0  United Kingdom\n",
              "505778    579098     85175  ...    14606.0  United Kingdom\n",
              "520136   C580263     85175  ...    12536.0          France\n",
              "\n",
              "[153 rows x 8 columns]"
            ]
          },
          "metadata": {
            "tags": []
          },
          "execution_count": 78
        }
      ]
    },
    {
      "cell_type": "code",
      "metadata": {
        "id": "xbCSnAguGtyL",
        "colab_type": "code",
        "colab": {
          "base_uri": "https://localhost:8080/",
          "height": 415
        },
        "outputId": "89bf37e9-6d06-4797-ca3f-9136821c84ab"
      },
      "source": [
        "data[data['StockCode'] == '85175']"
      ],
      "execution_count": 77,
      "outputs": [
        {
          "output_type": "execute_result",
          "data": {
            "text/html": [
              "<div>\n",
              "<style scoped>\n",
              "    .dataframe tbody tr th:only-of-type {\n",
              "        vertical-align: middle;\n",
              "    }\n",
              "\n",
              "    .dataframe tbody tr th {\n",
              "        vertical-align: top;\n",
              "    }\n",
              "\n",
              "    .dataframe thead th {\n",
              "        text-align: right;\n",
              "    }\n",
              "</style>\n",
              "<table border=\"1\" class=\"dataframe\">\n",
              "  <thead>\n",
              "    <tr style=\"text-align: right;\">\n",
              "      <th></th>\n",
              "      <th>InvoiceNo</th>\n",
              "      <th>StockCode</th>\n",
              "      <th>Description</th>\n",
              "      <th>Quantity</th>\n",
              "      <th>InvoiceDate</th>\n",
              "      <th>UnitPrice</th>\n",
              "      <th>CustomerID</th>\n",
              "      <th>Country</th>\n",
              "    </tr>\n",
              "  </thead>\n",
              "  <tbody>\n",
              "    <tr>\n",
              "      <th>3278</th>\n",
              "      <td>536617</td>\n",
              "      <td>85175</td>\n",
              "      <td>CACTI T-LIGHT CANDLES</td>\n",
              "      <td>96</td>\n",
              "      <td>12/2/2010 10:17</td>\n",
              "      <td>0.42</td>\n",
              "      <td>13941.0</td>\n",
              "      <td>United Kingdom</td>\n",
              "    </tr>\n",
              "    <tr>\n",
              "      <th>4881</th>\n",
              "      <td>C536815</td>\n",
              "      <td>85175</td>\n",
              "      <td>CACTI T-LIGHT CANDLES</td>\n",
              "      <td>-1</td>\n",
              "      <td>12/2/2010 17:05</td>\n",
              "      <td>0.42</td>\n",
              "      <td>14443.0</td>\n",
              "      <td>United Kingdom</td>\n",
              "    </tr>\n",
              "    <tr>\n",
              "      <th>7239</th>\n",
              "      <td>537023</td>\n",
              "      <td>85175</td>\n",
              "      <td>CACTI T-LIGHT CANDLES</td>\n",
              "      <td>32</td>\n",
              "      <td>12/3/2010 16:02</td>\n",
              "      <td>0.42</td>\n",
              "      <td>16725.0</td>\n",
              "      <td>United Kingdom</td>\n",
              "    </tr>\n",
              "    <tr>\n",
              "      <th>7439</th>\n",
              "      <td>C537039</td>\n",
              "      <td>85175</td>\n",
              "      <td>CACTI T-LIGHT CANDLES</td>\n",
              "      <td>-1</td>\n",
              "      <td>12/5/2010 10:25</td>\n",
              "      <td>0.42</td>\n",
              "      <td>15708.0</td>\n",
              "      <td>United Kingdom</td>\n",
              "    </tr>\n",
              "    <tr>\n",
              "      <th>7729</th>\n",
              "      <td>537051</td>\n",
              "      <td>85175</td>\n",
              "      <td>CACTI T-LIGHT CANDLES</td>\n",
              "      <td>32</td>\n",
              "      <td>12/5/2010 11:12</td>\n",
              "      <td>0.42</td>\n",
              "      <td>15708.0</td>\n",
              "      <td>United Kingdom</td>\n",
              "    </tr>\n",
              "    <tr>\n",
              "      <th>...</th>\n",
              "      <td>...</td>\n",
              "      <td>...</td>\n",
              "      <td>...</td>\n",
              "      <td>...</td>\n",
              "      <td>...</td>\n",
              "      <td>...</td>\n",
              "      <td>...</td>\n",
              "      <td>...</td>\n",
              "    </tr>\n",
              "    <tr>\n",
              "      <th>504398</th>\n",
              "      <td>578949</td>\n",
              "      <td>85175</td>\n",
              "      <td>CACTI T-LIGHT CANDLES</td>\n",
              "      <td>16</td>\n",
              "      <td>11/27/2011 14:30</td>\n",
              "      <td>0.42</td>\n",
              "      <td>14954.0</td>\n",
              "      <td>United Kingdom</td>\n",
              "    </tr>\n",
              "    <tr>\n",
              "      <th>505056</th>\n",
              "      <td>578999</td>\n",
              "      <td>85175</td>\n",
              "      <td>CACTI T-LIGHT CANDLES</td>\n",
              "      <td>16</td>\n",
              "      <td>11/27/2011 16:08</td>\n",
              "      <td>0.42</td>\n",
              "      <td>17595.0</td>\n",
              "      <td>United Kingdom</td>\n",
              "    </tr>\n",
              "    <tr>\n",
              "      <th>505778</th>\n",
              "      <td>579098</td>\n",
              "      <td>85175</td>\n",
              "      <td>CACTI T-LIGHT CANDLES</td>\n",
              "      <td>16</td>\n",
              "      <td>11/28/2011 11:18</td>\n",
              "      <td>0.42</td>\n",
              "      <td>14606.0</td>\n",
              "      <td>United Kingdom</td>\n",
              "    </tr>\n",
              "    <tr>\n",
              "      <th>520136</th>\n",
              "      <td>C580263</td>\n",
              "      <td>85175</td>\n",
              "      <td>CACTI T-LIGHT CANDLES</td>\n",
              "      <td>-16</td>\n",
              "      <td>12/2/2011 12:43</td>\n",
              "      <td>0.42</td>\n",
              "      <td>12536.0</td>\n",
              "      <td>France</td>\n",
              "    </tr>\n",
              "    <tr>\n",
              "      <th>538554</th>\n",
              "      <td>581408</td>\n",
              "      <td>85175</td>\n",
              "      <td>NaN</td>\n",
              "      <td>20</td>\n",
              "      <td>12/8/2011 14:06</td>\n",
              "      <td>0.00</td>\n",
              "      <td>NaN</td>\n",
              "      <td>United Kingdom</td>\n",
              "    </tr>\n",
              "  </tbody>\n",
              "</table>\n",
              "<p>154 rows × 8 columns</p>\n",
              "</div>"
            ],
            "text/plain": [
              "       InvoiceNo StockCode  ... CustomerID         Country\n",
              "3278      536617     85175  ...    13941.0  United Kingdom\n",
              "4881     C536815     85175  ...    14443.0  United Kingdom\n",
              "7239      537023     85175  ...    16725.0  United Kingdom\n",
              "7439     C537039     85175  ...    15708.0  United Kingdom\n",
              "7729      537051     85175  ...    15708.0  United Kingdom\n",
              "...          ...       ...  ...        ...             ...\n",
              "504398    578949     85175  ...    14954.0  United Kingdom\n",
              "505056    578999     85175  ...    17595.0  United Kingdom\n",
              "505778    579098     85175  ...    14606.0  United Kingdom\n",
              "520136   C580263     85175  ...    12536.0          France\n",
              "538554    581408     85175  ...        NaN  United Kingdom\n",
              "\n",
              "[154 rows x 8 columns]"
            ]
          },
          "metadata": {
            "tags": []
          },
          "execution_count": 77
        }
      ]
    },
    {
      "cell_type": "code",
      "metadata": {
        "id": "PmSe0eR4HL5_",
        "colab_type": "code",
        "colab": {}
      },
      "source": [
        ""
      ],
      "execution_count": 0,
      "outputs": []
    }
  ]
}